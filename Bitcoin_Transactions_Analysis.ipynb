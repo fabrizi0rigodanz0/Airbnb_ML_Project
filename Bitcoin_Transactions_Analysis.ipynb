{
  "nbformat": 4,
  "nbformat_minor": 0,
  "metadata": {
    "colab": {
      "provenance": [],
      "authorship_tag": "ABX9TyPzIeieeGKim6e4N9nHYtQ+",
      "include_colab_link": true
    },
    "kernelspec": {
      "name": "python3",
      "display_name": "Python 3"
    },
    "language_info": {
      "name": "python"
    }
  },
  "cells": [
    {
      "cell_type": "markdown",
      "metadata": {
        "id": "view-in-github",
        "colab_type": "text"
      },
      "source": [
        "<a href=\"https://colab.research.google.com/github/fabrizi0rigodanz0/Airbnb_ML_Project/blob/main/Bitcoin_Transactions_Analysis.ipynb\" target=\"_parent\"><img src=\"https://colab.research.google.com/assets/colab-badge.svg\" alt=\"Open In Colab\"/></a>"
      ]
    },
    {
      "cell_type": "markdown",
      "source": [
        "#Analyzing Bitcoin Transactions with Pandas and Spark"
      ],
      "metadata": {
        "id": "ubsZ9gDlrcrP"
      }
    },
    {
      "cell_type": "code",
      "execution_count": 4,
      "metadata": {
        "id": "p_h2Hx-8EcwP",
        "tags": []
      },
      "outputs": [],
      "source": [
        "import sys\n",
        "import os\n",
        "\n",
        "IN_COLAB = 'google.colab' in sys.modules\n",
        "WITH_SPARK = IN_COLAB"
      ]
    },
    {
      "cell_type": "markdown",
      "metadata": {
        "id": "3fU9cEU7EcwP"
      },
      "source": [
        "## Install software\n",
        "\n",
        "This cell installs the software needed to run the project."
      ]
    },
    {
      "cell_type": "code",
      "execution_count": 5,
      "metadata": {
        "id": "KOzu05nlEcwP",
        "colab": {
          "base_uri": "https://localhost:8080/"
        },
        "outputId": "035770bc-d626-4c09-d453-627cd8ca32fc"
      },
      "outputs": [
        {
          "output_type": "stream",
          "name": "stdout",
          "text": [
            "Reading package lists... Done\n",
            "Building dependency tree... Done\n",
            "Reading state information... Done\n",
            "The following additional packages will be installed:\n",
            "  openjdk-17-jre-headless\n",
            "Suggested packages:\n",
            "  openjdk-17-demo openjdk-17-source libnss-mdns fonts-dejavu-extra fonts-ipafont-gothic\n",
            "  fonts-ipafont-mincho fonts-wqy-microhei | fonts-wqy-zenhei fonts-indic\n",
            "The following NEW packages will be installed:\n",
            "  openjdk-17-jdk-headless openjdk-17-jre-headless\n",
            "0 upgraded, 2 newly installed, 0 to remove and 45 not upgraded.\n",
            "Need to get 119 MB of archives.\n",
            "After this operation, 271 MB of additional disk space will be used.\n",
            "Get:1 http://archive.ubuntu.com/ubuntu jammy-updates/universe amd64 openjdk-17-jre-headless amd64 17.0.10+7-1~22.04.1 [48.2 MB]\n",
            "Get:2 http://archive.ubuntu.com/ubuntu jammy-updates/universe amd64 openjdk-17-jdk-headless amd64 17.0.10+7-1~22.04.1 [71.1 MB]\n",
            "Fetched 119 MB in 1s (81.8 MB/s)\n",
            "Selecting previously unselected package openjdk-17-jre-headless:amd64.\n",
            "(Reading database ... 121918 files and directories currently installed.)\n",
            "Preparing to unpack .../openjdk-17-jre-headless_17.0.10+7-1~22.04.1_amd64.deb ...\n",
            "Unpacking openjdk-17-jre-headless:amd64 (17.0.10+7-1~22.04.1) ...\n",
            "Selecting previously unselected package openjdk-17-jdk-headless:amd64.\n",
            "Preparing to unpack .../openjdk-17-jdk-headless_17.0.10+7-1~22.04.1_amd64.deb ...\n",
            "Unpacking openjdk-17-jdk-headless:amd64 (17.0.10+7-1~22.04.1) ...\n",
            "Setting up openjdk-17-jre-headless:amd64 (17.0.10+7-1~22.04.1) ...\n",
            "update-alternatives: using /usr/lib/jvm/java-17-openjdk-amd64/bin/java to provide /usr/bin/java (java) in auto mode\n",
            "update-alternatives: using /usr/lib/jvm/java-17-openjdk-amd64/bin/jpackage to provide /usr/bin/jpackage (jpackage) in auto mode\n",
            "update-alternatives: using /usr/lib/jvm/java-17-openjdk-amd64/bin/keytool to provide /usr/bin/keytool (keytool) in auto mode\n",
            "update-alternatives: using /usr/lib/jvm/java-17-openjdk-amd64/bin/rmiregistry to provide /usr/bin/rmiregistry (rmiregistry) in auto mode\n",
            "update-alternatives: using /usr/lib/jvm/java-17-openjdk-amd64/lib/jexec to provide /usr/bin/jexec (jexec) in auto mode\n",
            "Setting up openjdk-17-jdk-headless:amd64 (17.0.10+7-1~22.04.1) ...\n",
            "update-alternatives: using /usr/lib/jvm/java-17-openjdk-amd64/bin/jar to provide /usr/bin/jar (jar) in auto mode\n",
            "update-alternatives: using /usr/lib/jvm/java-17-openjdk-amd64/bin/jarsigner to provide /usr/bin/jarsigner (jarsigner) in auto mode\n",
            "update-alternatives: using /usr/lib/jvm/java-17-openjdk-amd64/bin/javac to provide /usr/bin/javac (javac) in auto mode\n",
            "update-alternatives: using /usr/lib/jvm/java-17-openjdk-amd64/bin/javadoc to provide /usr/bin/javadoc (javadoc) in auto mode\n",
            "update-alternatives: using /usr/lib/jvm/java-17-openjdk-amd64/bin/javap to provide /usr/bin/javap (javap) in auto mode\n",
            "update-alternatives: using /usr/lib/jvm/java-17-openjdk-amd64/bin/jcmd to provide /usr/bin/jcmd (jcmd) in auto mode\n",
            "update-alternatives: using /usr/lib/jvm/java-17-openjdk-amd64/bin/jdb to provide /usr/bin/jdb (jdb) in auto mode\n",
            "update-alternatives: using /usr/lib/jvm/java-17-openjdk-amd64/bin/jdeprscan to provide /usr/bin/jdeprscan (jdeprscan) in auto mode\n",
            "update-alternatives: using /usr/lib/jvm/java-17-openjdk-amd64/bin/jdeps to provide /usr/bin/jdeps (jdeps) in auto mode\n",
            "update-alternatives: using /usr/lib/jvm/java-17-openjdk-amd64/bin/jfr to provide /usr/bin/jfr (jfr) in auto mode\n",
            "update-alternatives: using /usr/lib/jvm/java-17-openjdk-amd64/bin/jimage to provide /usr/bin/jimage (jimage) in auto mode\n",
            "update-alternatives: using /usr/lib/jvm/java-17-openjdk-amd64/bin/jinfo to provide /usr/bin/jinfo (jinfo) in auto mode\n",
            "update-alternatives: using /usr/lib/jvm/java-17-openjdk-amd64/bin/jlink to provide /usr/bin/jlink (jlink) in auto mode\n",
            "update-alternatives: using /usr/lib/jvm/java-17-openjdk-amd64/bin/jmap to provide /usr/bin/jmap (jmap) in auto mode\n",
            "update-alternatives: using /usr/lib/jvm/java-17-openjdk-amd64/bin/jmod to provide /usr/bin/jmod (jmod) in auto mode\n",
            "update-alternatives: using /usr/lib/jvm/java-17-openjdk-amd64/bin/jps to provide /usr/bin/jps (jps) in auto mode\n",
            "update-alternatives: using /usr/lib/jvm/java-17-openjdk-amd64/bin/jrunscript to provide /usr/bin/jrunscript (jrunscript) in auto mode\n",
            "update-alternatives: using /usr/lib/jvm/java-17-openjdk-amd64/bin/jshell to provide /usr/bin/jshell (jshell) in auto mode\n",
            "update-alternatives: using /usr/lib/jvm/java-17-openjdk-amd64/bin/jstack to provide /usr/bin/jstack (jstack) in auto mode\n",
            "update-alternatives: using /usr/lib/jvm/java-17-openjdk-amd64/bin/jstat to provide /usr/bin/jstat (jstat) in auto mode\n",
            "update-alternatives: using /usr/lib/jvm/java-17-openjdk-amd64/bin/jstatd to provide /usr/bin/jstatd (jstatd) in auto mode\n",
            "update-alternatives: using /usr/lib/jvm/java-17-openjdk-amd64/bin/serialver to provide /usr/bin/serialver (serialver) in auto mode\n",
            "update-alternatives: using /usr/lib/jvm/java-17-openjdk-amd64/bin/jhsdb to provide /usr/bin/jhsdb (jhsdb) in auto mode\n",
            "E: Invalid operation wget\n",
            "Collecting pyspark==3.5.0\n",
            "  Downloading pyspark-3.5.0.tar.gz (316.9 MB)\n",
            "\u001b[2K     \u001b[90m━━━━━━━━━━━━━━━━━━━━━━━━━━━━━━━━━━━━━━━━\u001b[0m \u001b[32m316.9/316.9 MB\u001b[0m \u001b[31m4.4 MB/s\u001b[0m eta \u001b[36m0:00:00\u001b[0m\n",
            "\u001b[?25h  Preparing metadata (setup.py) ... \u001b[?25l\u001b[?25hdone\n",
            "Requirement already satisfied: py4j==0.10.9.7 in /usr/local/lib/python3.10/dist-packages (from pyspark==3.5.0) (0.10.9.7)\n",
            "Building wheels for collected packages: pyspark\n",
            "  Building wheel for pyspark (setup.py) ... \u001b[?25l\u001b[?25hdone\n",
            "  Created wheel for pyspark: filename=pyspark-3.5.0-py2.py3-none-any.whl size=317425344 sha256=a7ec24c29265437fff09cc4d192383b75e0d37959f27bec08b3fd635ca61242a\n",
            "  Stored in directory: /root/.cache/pip/wheels/41/4e/10/c2cf2467f71c678cfc8a6b9ac9241e5e44a01940da8fbb17fc\n",
            "Successfully built pyspark\n",
            "Installing collected packages: pyspark\n",
            "Successfully installed pyspark-3.5.0\n",
            "--2024-06-04 12:02:54--  https://repos.spark-packages.org/graphframes/graphframes/0.8.3-spark3.5-s_2.13/graphframes-0.8.3-spark3.5-s_2.13.jar\n",
            "Resolving repos.spark-packages.org (repos.spark-packages.org)... 13.226.34.35, 13.226.34.123, 13.226.34.14, ...\n",
            "Connecting to repos.spark-packages.org (repos.spark-packages.org)|13.226.34.35|:443... connected.\n",
            "HTTP request sent, awaiting response... 200 OK\n",
            "Length: 251438 (246K) [binary/octet-stream]\n",
            "Saving to: ‘graphframes-0.8.3-spark3.5-s_2.13.jar’\n",
            "\n",
            "graphframes-0.8.3-s 100%[===================>] 245.54K  --.-KB/s    in 0.03s   \n",
            "\n",
            "2024-06-04 12:02:54 (8.75 MB/s) - ‘graphframes-0.8.3-spark3.5-s_2.13.jar’ saved [251438/251438]\n",
            "\n",
            "Requirement already satisfied: gdown in /usr/local/lib/python3.10/dist-packages (5.1.0)\n",
            "Requirement already satisfied: beautifulsoup4 in /usr/local/lib/python3.10/dist-packages (from gdown) (4.12.3)\n",
            "Requirement already satisfied: filelock in /usr/local/lib/python3.10/dist-packages (from gdown) (3.14.0)\n",
            "Requirement already satisfied: requests[socks] in /usr/local/lib/python3.10/dist-packages (from gdown) (2.31.0)\n",
            "Requirement already satisfied: tqdm in /usr/local/lib/python3.10/dist-packages (from gdown) (4.66.4)\n",
            "Requirement already satisfied: soupsieve>1.2 in /usr/local/lib/python3.10/dist-packages (from beautifulsoup4->gdown) (2.5)\n",
            "Requirement already satisfied: charset-normalizer<4,>=2 in /usr/local/lib/python3.10/dist-packages (from requests[socks]->gdown) (3.3.2)\n",
            "Requirement already satisfied: idna<4,>=2.5 in /usr/local/lib/python3.10/dist-packages (from requests[socks]->gdown) (3.7)\n",
            "Requirement already satisfied: urllib3<3,>=1.21.1 in /usr/local/lib/python3.10/dist-packages (from requests[socks]->gdown) (2.0.7)\n",
            "Requirement already satisfied: certifi>=2017.4.17 in /usr/local/lib/python3.10/dist-packages (from requests[socks]->gdown) (2024.2.2)\n",
            "Requirement already satisfied: PySocks!=1.5.7,>=1.5.6 in /usr/local/lib/python3.10/dist-packages (from requests[socks]->gdown) (1.7.1)\n"
          ]
        }
      ],
      "source": [
        "if( WITH_SPARK):\n",
        "    !apt-get install openjdk-17-jdk-headless\n",
        "    !apt-get wget\n",
        "    !pip install pyspark==3.5.0\n",
        "    !wget https://repos.spark-packages.org/graphframes/graphframes/0.8.3-spark3.5-s_2.13/graphframes-0.8.3-spark3.5-s_2.13.jar\n",
        "    os.environ['PYSPARK_SUBMIT_ARGS'] = '--jars graphframes-0.8.3-spark3.5-s_2.13.jar pyspark-shell'\n",
        "    os.environ[\"PYARROW_IGNORE_TIMEZONE\"] = \"1\"\n",
        "\n",
        "!pip install gdown\n",
        "!mkdir checkpoint\n",
        "\n"
      ]
    },
    {
      "cell_type": "markdown",
      "metadata": {
        "id": "IXHpSSnEEcwQ"
      },
      "source": [
        "## Setup\n",
        "\n",
        "The following cell will import the used packages."
      ]
    },
    {
      "cell_type": "code",
      "execution_count": 6,
      "metadata": {
        "id": "7lyBwH2KEcwQ",
        "tags": []
      },
      "outputs": [],
      "source": [
        "from zipfile import ZipFile\n",
        "import time\n",
        "import pandas as pd\n",
        "import numpy as np\n",
        "import ast\n",
        "import matplotlib.pyplot as plt\n",
        "from sklearn.preprocessing import LabelEncoder\n",
        "from sklearn.linear_model import LogisticRegression\n",
        "from sklearn.model_selection import train_test_split\n",
        "from sklearn import metrics\n",
        "import seaborn as sns"
      ]
    },
    {
      "cell_type": "code",
      "source": [
        "if( WITH_SPARK):\n",
        "    import pyspark\n",
        "    import pyspark.pandas as ps\n",
        "    from pyspark.sql import SparkSession\n",
        "    from pyspark.sql.types import *\n",
        "    from pyspark.sql.functions import *\n",
        "    from pyspark.ml.linalg import Vectors\n",
        "    from pyspark.ml.clustering import KMeans\n",
        "    from pyspark.ml.evaluation import *\n",
        "    from pyspark.ml.feature import *"
      ],
      "metadata": {
        "id": "hjgoGVz6VDTI"
      },
      "execution_count": 7,
      "outputs": []
    },
    {
      "cell_type": "markdown",
      "metadata": {
        "id": "anHDtopzEcwR"
      },
      "source": [
        "## Dataset\n",
        "\n",
        "In this project, you will be asked to perform analysis of [Bitcoin](https://en.wikipedia.org/wiki/Bitcoin) transactions, a cryptocurrency where transactions are stored in blocks of a blockchain - for the purpose of this project, a blockchain can be seen as a list of blocks, and each block has a list of transactions.\n",
        "\n",
        "The provided data files include a list of transactions performed in Bitcoin. The list of transactions is continuous and ordered in time, being a subset of all transactions performed in Bitcoin. A transaction transfers currency from one or more source addresses to one or more destination addresses.\n",
        "\n",
        "The datasets are a transformation form the data provided at [https://www.kaggle.com/shiheyingzhe/datasets](https://www.kaggle.com/shiheyingzhe/datasets).\n",
        "\n",
        "\n"
      ]
    },
    {
      "cell_type": "markdown",
      "metadata": {
        "id": "jX14oN5OEibP"
      },
      "source": [
        "The data sets are available in the following link: [https://drive.google.com/drive/folders/1WSJTm5nfy64uOc648TJ-SI1CHj5MbiH_?usp=sharing](https://drive.google.com/drive/folders/1WSJTm5nfy64uOc648TJ-SI1CHj5MbiH_?usp=sharing). For running locally download the smallest file and at least another one and store it in directory data. For running in Google Colab, you should access the link and Add Shortcut to your Drive."
      ]
    },
    {
      "cell_type": "code",
      "execution_count": 15,
      "metadata": {
        "id": "OrdPJwdJHaUt",
        "colab": {
          "base_uri": "https://localhost:8080/"
        },
        "outputId": "c59f9a2e-404b-489d-d0cf-5c0e6bdf25d2"
      },
      "outputs": [
        {
          "output_type": "stream",
          "name": "stdout",
          "text": [
            "Mounted at /content/drive\n",
            "0-68732.csv.gz\t      260001-270000.csv.gz  320001-329999.csv.gz  360001-364000.csv.gz\n",
            "190001-209999.csv.gz  270001-280000.csv.gz  330000-337000.csv.gz  364001-367000.csv.gz\n",
            "210000-224000.csv.gz  280001-290000.csv.gz  337001-343000.csv.gz  367001-369999.csv.gz\n",
            "224001-234000.csv.gz  290001-300000.csv.gz  343001-349000.csv.gz  btc_price.csv\n",
            "234001-247000.csv.gz  300001-310000.csv.gz  349001-354000.csv.gz  labels\n",
            "247001-260000.csv.gz  310001-320000.csv.gz  354001-360000.csv.gz\n"
          ]
        }
      ],
      "source": [
        "from google.colab import drive\n",
        "drive.mount('/content/drive')\n",
        "\n",
        "# If you added the shortcut to your drive, the file should appear in this directory\n",
        "# If not, you need to explore from directory /content/drive\n",
        "!ls /content/drive/MyDrive/sbe2324ada"
      ]
    },
    {
      "cell_type": "code",
      "execution_count": 16,
      "metadata": {
        "id": "I_hp6Rv2EcwR",
        "tags": []
      },
      "outputs": [],
      "source": [
        "DATASET_DIR = \"bitcoin/archive1\"\n",
        "# FOR running in Colab\n",
        "DATASET_DIR = \"/content/drive/MyDrive/sbe2324ada\"\n",
        "\n",
        "# Small dataset\n",
        "TXDATA_FILE = \"0-68732.csv.gz\"\n",
        "\n",
        "# Larger dataset\n",
        "TXDATA_FILE2 = \"224001-234000.csv.gz\"\n",
        "\n",
        "# Bitcoin price\n",
        "BTCPRICE_FILE = \"btc_price.csv\""
      ]
    },
    {
      "cell_type": "markdown",
      "metadata": {
        "id": "5U6Xf8luEcwR"
      },
      "source": [
        "### Bitcoin transactions\n",
        "\n",
        "Each transactions CSV file has five columns, with the following contents:\n",
        "\n",
        "* **TxId**: a string of format \"block:counter\" - this can be used to identify univocally a transaction.\n",
        "* **Height**: the block in which the transaction is recorded.\n",
        "* **Input**: list of source addresses.\n",
        "* **Output**: list of destination addresses; when the list included multiple values, it includes the value transferred for each account. The following example represented two destination addresses, the first receiving *0.01* and the second *49.99*:  \n",
        "```[['1Fmjwt8172FZT5XdKnzTUcEEzc1T2MCg2a', '0.01'], ['1AbHNFdKJeVL8FRZyRZoiTzG9VCmzLrtvm', '49.99']]```\n",
        "* **Sum**: a list with a single element that is the sum of the value transferred.\n",
        "* **Time**: the time of the transaction.\n",
        "\n",
        "\n",
        "The following cells print basic infomation about the transaction files stored in the directory. The first uses Pandas, while the next two use Pandas interface for Spark."
      ]
    },
    {
      "cell_type": "code",
      "execution_count": null,
      "metadata": {
        "id": "a_8B38HhEcwS",
        "colab": {
          "base_uri": "https://localhost:8080/"
        },
        "outputId": "e841e5b7-3ea1-48d3-e64b-28dcd0238976"
      },
      "outputs": [
        {
          "output_type": "stream",
          "name": "stdout",
          "text": [
            "DUMP BASIC INFO FOR EACH FILE\n",
            "FILENAME : 0-68732.csv.gz\n"
          ]
        },
        {
          "output_type": "stream",
          "name": "stderr",
          "text": [
            "/usr/local/lib/python3.10/dist-packages/pyspark/pandas/utils.py:1016: PandasAPIOnSparkAdviceWarning: If `index_col` is not specified for `read_csv`, the default index is attached which can cause additional overhead.\n",
            "  warnings.warn(message, PandasAPIOnSparkAdviceWarning)\n"
          ]
        },
        {
          "output_type": "stream",
          "name": "stdout",
          "text": [
            "Number of transactions : 14832\n",
            "First block : 546\n",
            "Last block : 68732\n",
            "First date : 2009-01-15 06:08:20\n",
            "Last date : 2010-07-17 16:54:44\n",
            "FILENAME : 190001-209999.csv.gz\n"
          ]
        },
        {
          "output_type": "stream",
          "name": "stderr",
          "text": [
            "/usr/local/lib/python3.10/dist-packages/pyspark/pandas/utils.py:1016: PandasAPIOnSparkAdviceWarning: If `index_col` is not specified for `read_csv`, the default index is attached which can cause additional overhead.\n",
            "  warnings.warn(message, PandasAPIOnSparkAdviceWarning)\n"
          ]
        },
        {
          "output_type": "stream",
          "name": "stdout",
          "text": [
            "Number of transactions : 4183123\n",
            "First block : 190001\n",
            "Last block : 209999\n",
            "First date : 2012-07-19 09:43:01\n",
            "Last date : 2014-03-12 22:49:29\n",
            "FILENAME : 210000-224000.csv.gz\n"
          ]
        },
        {
          "output_type": "stream",
          "name": "stderr",
          "text": [
            "/usr/local/lib/python3.10/dist-packages/pyspark/pandas/utils.py:1016: PandasAPIOnSparkAdviceWarning: If `index_col` is not specified for `read_csv`, the default index is attached which can cause additional overhead.\n",
            "  warnings.warn(message, PandasAPIOnSparkAdviceWarning)\n"
          ]
        },
        {
          "output_type": "stream",
          "name": "stdout",
          "text": [
            "Number of transactions : 4372368\n",
            "First block : 210000\n",
            "Last block : 224000\n",
            "First date : 2012-09-06 14:25:44\n",
            "Last date : 2014-03-13 09:37:24\n",
            "FILENAME : 224001-234000.csv.gz\n"
          ]
        },
        {
          "output_type": "stream",
          "name": "stderr",
          "text": [
            "/usr/local/lib/python3.10/dist-packages/pyspark/pandas/utils.py:1016: PandasAPIOnSparkAdviceWarning: If `index_col` is not specified for `read_csv`, the default index is attached which can cause additional overhead.\n",
            "  warnings.warn(message, PandasAPIOnSparkAdviceWarning)\n"
          ]
        },
        {
          "output_type": "stream",
          "name": "stdout",
          "text": [
            "Number of transactions : 3268711\n",
            "First block : 224001\n",
            "Last block : 234000\n",
            "First date : 2012-08-24 18:14:12\n",
            "Last date : 2013-05-01 03:47:20\n",
            "FILENAME : 234001-247000.csv.gz\n"
          ]
        },
        {
          "output_type": "stream",
          "name": "stderr",
          "text": [
            "/usr/local/lib/python3.10/dist-packages/pyspark/pandas/utils.py:1016: PandasAPIOnSparkAdviceWarning: If `index_col` is not specified for `read_csv`, the default index is attached which can cause additional overhead.\n",
            "  warnings.warn(message, PandasAPIOnSparkAdviceWarning)\n"
          ]
        },
        {
          "output_type": "stream",
          "name": "stdout",
          "text": [
            "Number of transactions : 3755673\n",
            "First block : 234001\n",
            "Last block : 247000\n",
            "First date : 1972-09-04 19:15:29\n",
            "Last date : 2083-06-22 23:32:50\n",
            "FILENAME : 247001-260000.csv.gz\n"
          ]
        },
        {
          "output_type": "stream",
          "name": "stderr",
          "text": [
            "/usr/local/lib/python3.10/dist-packages/pyspark/pandas/utils.py:1016: PandasAPIOnSparkAdviceWarning: If `index_col` is not specified for `read_csv`, the default index is attached which can cause additional overhead.\n",
            "  warnings.warn(message, PandasAPIOnSparkAdviceWarning)\n"
          ]
        },
        {
          "output_type": "stream",
          "name": "stdout",
          "text": [
            "Number of transactions : 3605859\n",
            "First block : 247001\n",
            "Last block : 260000\n",
            "First date : 2013-07-15 11:31:03\n",
            "Last date : 2014-03-16 01:06:12\n",
            "FILENAME : 260001-270000.csv.gz\n"
          ]
        },
        {
          "output_type": "stream",
          "name": "stderr",
          "text": [
            "/usr/local/lib/python3.10/dist-packages/pyspark/pandas/utils.py:1016: PandasAPIOnSparkAdviceWarning: If `index_col` is not specified for `read_csv`, the default index is attached which can cause additional overhead.\n",
            "  warnings.warn(message, PandasAPIOnSparkAdviceWarning)\n"
          ]
        },
        {
          "output_type": "stream",
          "name": "stdout",
          "text": [
            "Number of transactions : 2769663\n",
            "First block : 260001\n",
            "Last block : 270000\n",
            "First date : 2013-09-23 08:31:57\n",
            "Last date : 2070-04-24 08:28:17\n",
            "FILENAME : 270001-280000.csv.gz\n"
          ]
        },
        {
          "output_type": "stream",
          "name": "stderr",
          "text": [
            "/usr/local/lib/python3.10/dist-packages/pyspark/pandas/utils.py:1016: PandasAPIOnSparkAdviceWarning: If `index_col` is not specified for `read_csv`, the default index is attached which can cause additional overhead.\n",
            "  warnings.warn(message, PandasAPIOnSparkAdviceWarning)\n"
          ]
        },
        {
          "output_type": "stream",
          "name": "stdout",
          "text": [
            "Number of transactions : 3661019\n",
            "First block : 270001\n",
            "Last block : 280000\n",
            "First date : 2013-11-14 13:02:11\n",
            "Last date : 2014-03-16 13:29:27\n",
            "FILENAME : 280001-290000.csv.gz\n"
          ]
        },
        {
          "output_type": "stream",
          "name": "stderr",
          "text": [
            "/usr/local/lib/python3.10/dist-packages/pyspark/pandas/utils.py:1016: PandasAPIOnSparkAdviceWarning: If `index_col` is not specified for `read_csv`, the default index is attached which can cause additional overhead.\n",
            "  warnings.warn(message, PandasAPIOnSparkAdviceWarning)\n"
          ]
        },
        {
          "output_type": "stream",
          "name": "stdout",
          "text": [
            "Number of transactions : 2445208\n",
            "First block : 283895\n",
            "Last block : 290000\n",
            "First date : 2014-02-03 04:53:17\n",
            "Last date : 2014-03-16 13:45:30\n",
            "FILENAME : 290001-300000.csv.gz\n"
          ]
        },
        {
          "output_type": "stream",
          "name": "stderr",
          "text": [
            "/usr/local/lib/python3.10/dist-packages/pyspark/pandas/utils.py:1016: PandasAPIOnSparkAdviceWarning: If `index_col` is not specified for `read_csv`, the default index is attached which can cause additional overhead.\n",
            "  warnings.warn(message, PandasAPIOnSparkAdviceWarning)\n"
          ]
        },
        {
          "output_type": "stream",
          "name": "stdout",
          "text": [
            "Number of transactions : 3848932\n",
            "First block : 290001\n",
            "Last block : 300000\n",
            "First date : 2013-03-18 16:57:27\n",
            "Last date : 2014-05-10 06:32:34\n",
            "FILENAME : 300001-310000.csv.gz\n"
          ]
        },
        {
          "output_type": "stream",
          "name": "stderr",
          "text": [
            "/usr/local/lib/python3.10/dist-packages/pyspark/pandas/utils.py:1016: PandasAPIOnSparkAdviceWarning: If `index_col` is not specified for `read_csv`, the default index is attached which can cause additional overhead.\n",
            "  warnings.warn(message, PandasAPIOnSparkAdviceWarning)\n"
          ]
        },
        {
          "output_type": "stream",
          "name": "stdout",
          "text": [
            "Number of transactions : 3771780\n",
            "First block : 300001\n"
          ]
        }
      ],
      "source": [
        "# Dumps basic infomation using Spark Pandas API\n",
        "spark = SparkSession \\\n",
        "    .builder \\\n",
        "    .master(\"local[*]\") \\\n",
        "    .appName(\"Group project\") \\\n",
        "    .getOrCreate()\n",
        "\n",
        "# Dumps basic infomation using native Pandas\n",
        "print( \"DUMP BASIC INFO FOR EACH FILE\")\n",
        "for filename in os.listdir(DATASET_DIR) :\n",
        "    if( not filename.endswith(\".csv.gz\")):\n",
        "        continue;\n",
        "    print( \"FILENAME : \" + filename )\n",
        "    path = os.path.join(DATASET_DIR, filename)\n",
        "    df = ps.read_csv( path,compression=\"gzip\")\n",
        "    print( \"Number of transactions : \" + str(df.shape[0]))\n",
        "    print( \"First block : \" + str(df[\"Height\"].min()))\n",
        "    print( \"Last block : \" + str(df[\"Height\"].max()))\n",
        "    print( \"First date : \" + str(df[\"Time\"].min()))\n",
        "    print( \"Last date : \" + str(df[\"Time\"].max()))\n",
        "    del df\n"
      ]
    },
    {
      "cell_type": "code",
      "execution_count": null,
      "metadata": {
        "id": "sg2mgIfpEcwR",
        "colab": {
          "base_uri": "https://localhost:8080/"
        },
        "outputId": "9c5c7473-3bc9-4f1e-c319-d245b6d0d700"
      },
      "outputs": [
        {
          "output_type": "stream",
          "name": "stdout",
          "text": [
            "DUMP BASIC INFO FOR EACH FILE\n",
            "FILENAME : 0-68732.csv.gz\n",
            "Number of transactions : 14832\n",
            "First block : 546\n",
            "Last block : 68732\n",
            "First date : 2009-01-15 06:08:20\n",
            "Last date : 2010-07-17 16:54:44\n",
            "FILENAME : 190001-209999.csv.gz\n",
            "Number of transactions : 4183123\n",
            "First block : 190001\n",
            "Last block : 209999\n",
            "First date : 2012-07-19 09:43:01\n",
            "Last date : 2014-03-12 22:49:29\n",
            "FILENAME : 210000-224000.csv.gz\n",
            "Number of transactions : 4372368\n",
            "First block : 210000\n",
            "Last block : 224000\n",
            "First date : 2012-09-06 14:25:44\n",
            "Last date : 2014-03-13 09:37:24\n",
            "FILENAME : 224001-234000.csv.gz\n",
            "Number of transactions : 3268711\n",
            "First block : 224001\n",
            "Last block : 234000\n",
            "First date : 2012-08-24 18:14:12\n",
            "Last date : 2013-05-01 03:47:20\n",
            "FILENAME : 234001-247000.csv.gz\n",
            "Number of transactions : 3755673\n",
            "First block : 234001\n",
            "Last block : 247000\n",
            "First date : 1972-09-04 19:15:29\n",
            "Last date : 2083-06-22 23:32:50\n",
            "FILENAME : 247001-260000.csv.gz\n",
            "Number of transactions : 3605859\n",
            "First block : 247001\n",
            "Last block : 260000\n",
            "First date : 2013-07-15 11:31:03\n",
            "Last date : 2014-03-16 01:06:12\n",
            "FILENAME : 260001-270000.csv.gz\n",
            "Number of transactions : 2769663\n",
            "First block : 260001\n",
            "Last block : 270000\n",
            "First date : 2013-09-23 08:31:57\n",
            "Last date : 2070-04-24 08:28:17\n",
            "FILENAME : 270001-280000.csv.gz\n",
            "Number of transactions : 3661019\n",
            "First block : 270001\n",
            "Last block : 280000\n",
            "First date : 2013-11-14 13:02:11\n",
            "Last date : 2014-03-16 13:29:27\n",
            "FILENAME : 280001-290000.csv.gz\n",
            "Number of transactions : 2445208\n",
            "First block : 283895\n",
            "Last block : 290000\n",
            "First date : 2014-02-03 04:53:17\n",
            "Last date : 2014-03-16 13:45:30\n",
            "FILENAME : 290001-300000.csv.gz\n",
            "Number of transactions : 3848932\n",
            "First block : 290001\n",
            "Last block : 300000\n",
            "First date : 2013-03-18 16:57:27\n",
            "Last date : 2014-05-10 06:32:34\n",
            "FILENAME : 300001-310000.csv.gz\n",
            "Number of transactions : 3771780\n",
            "First block : 300001\n",
            "Last block : 310000\n",
            "First date : 2014-03-09 19:48:36\n",
            "Last date : 2014-07-09 23:04:51\n",
            "FILENAME : 310001-320000.csv.gz\n"
          ]
        }
      ],
      "source": [
        "# Dumps basic infomation using native Pandas\n",
        "print( \"DUMP BASIC INFO FOR EACH FILE\")\n",
        "for filename in os.listdir(DATASET_DIR) :\n",
        "    if( not filename.endswith(\".csv.gz\")):\n",
        "        continue;\n",
        "    print( \"FILENAME : \" + filename )\n",
        "    date_cols = [\"Time\"]\n",
        "    path = os.path.join(DATASET_DIR, filename)\n",
        "    df = pd.read_csv( path,compression=\"gzip\",parse_dates=date_cols)\n",
        "    print( \"Number of transactions : \" + str(df.shape[0]))\n",
        "    print( \"First block : \" + str(df[\"Height\"].min()))\n",
        "    print( \"Last block : \" + str(df[\"Height\"].max()))\n",
        "    print( \"First date : \" + str(df[\"Time\"].min()))\n",
        "    print( \"Last date : \" + str(df[\"Time\"].max()))\n",
        "    del df\n"
      ]
    },
    {
      "cell_type": "code",
      "execution_count": null,
      "metadata": {
        "id": "2sk0A6iIEcwS"
      },
      "outputs": [],
      "source": [
        "# Dumps basic infomation using Spark Dataframe load\n",
        "spark = SparkSession \\\n",
        "    .builder \\\n",
        "    .master(\"local[*]\") \\\n",
        "    .appName(\"Group project\") \\\n",
        "    .getOrCreate()\n",
        "\n",
        "# Dumps basic infomation using native Pandas\n",
        "print( \"DUMP BASIC INFO FOR EACH FILE\")\n",
        "for filename in os.listdir(DATASET_DIR) :\n",
        "    if( not filename.endswith(\".csv.gz\")):\n",
        "        continue;\n",
        "    print( \"FILENAME : \" + filename )\n",
        "    path = os.path.join(DATASET_DIR, filename)\n",
        "    mySchema = StructType([\n",
        "        StructField(\"TxId\", StringType()),\n",
        "        StructField(\"Height\", IntegerType()),\n",
        "        StructField(\"Input\", StringType()),\n",
        "        StructField(\"Output\", StringType()),\n",
        "        StructField(\"Sum\", StringType()),\n",
        "        StructField(\"Time\", TimestampType()),\n",
        "    ])\n",
        "\n",
        "    dataset = spark.read.load(path, format=\"csv\", compression=\"gzip\",\n",
        "                         sep=\",\", schema=mySchema, header=\"true\")\n",
        "    dataset.createOrReplaceTempView(\"data\")\n",
        "\n",
        "    statistics = spark.sql( \"\"\"SELECT COUNT( *) AS num_transactions,\n",
        "                                  MIN( Height) AS first_block,\n",
        "                                  MAX( Height) AS last_block,\n",
        "                                  MIN( Time) AS first_time,\n",
        "                                  MAX( Time) AS last_time\n",
        "                                  FROM data\"\"\")\n",
        "    statistics.show()\n"
      ]
    },
    {
      "cell_type": "markdown",
      "metadata": {
        "id": "RUgHRRgcEcwS"
      },
      "source": [
        "### Prepocessing a dataset file\n",
        "\n",
        "For simplifying the processing, we will split the transactions dataframe into the following dataframes:\n",
        "\n",
        "* **inputDF**, includes the index of the transaction, one input address, the sum and the time.\n",
        "* **outputDF**, includes the index of the transaction, one output address, the output value, the sum and the time.\n",
        "* **transactionDF**, includes the index of the transaction, the sum and the time."
      ]
    },
    {
      "cell_type": "code",
      "execution_count": null,
      "metadata": {
        "id": "Q9oE0zvhEcwS"
      },
      "outputs": [],
      "source": [
        "date_cols = [\"Time\"]\n",
        "path = os.path.join(DATASET_DIR, TXDATA_FILE2)\n",
        "df = pd.read_csv( path,compression=\"gzip\",parse_dates=date_cols)\n",
        "\n",
        "df = df.sample(frac=1/10, random_state=42)\n",
        "\n",
        "df['Input'] = df['Input'].apply(ast.literal_eval)\n",
        "df['Output'] = df['Output'].apply(ast.literal_eval)\n",
        "\n",
        "inputDF = df[[\"TxId\",\"Height\",\"Input\",\"Sum\",\"Time\"]].explode(\"Input\")\n",
        "print(inputDF.dtypes)\n",
        "\n",
        "outputDF = df[[\"TxId\",\"Height\",\"Output\",\"Sum\",\"Time\"]].explode(\"Output\")\n",
        "outputDF[[\"Output\",\"Value\"]] = outputDF[\"Output\"].to_list()\n",
        "print(outputDF.dtypes)\n",
        "\n",
        "transactionDF = df[[\"TxId\",\"Height\",\"Sum\",\"Time\"]]\n",
        "print(transactionDF.dtypes)"
      ]
    },
    {
      "cell_type": "markdown",
      "metadata": {
        "id": "USy7wswvEcwS"
      },
      "source": [
        "We repeat the same computation in Spark SQL, creating views with the same names."
      ]
    },
    {
      "cell_type": "code",
      "source": [
        "spark = SparkSession \\\n",
        "    .builder \\\n",
        "    .master(\"local[*]\") \\\n",
        "    .appName(\"Group project\") \\\n",
        "    .getOrCreate()\n",
        "\n",
        "path = os.path.join(DATASET_DIR, TXDATA_FILE2)\n",
        "mySchema = StructType([\n",
        "    StructField(\"TxId\", StringType()),\n",
        "    StructField(\"Height\", IntegerType()),\n",
        "    StructField(\"Input\", StringType()),\n",
        "    StructField(\"Output\", StringType()),\n",
        "    StructField(\"Sum\", FloatType()),\n",
        "    StructField(\"Time\", TimestampType()),\n",
        "])\n",
        "\n",
        "dataset = spark.read.load(path, format=\"csv\", compression=\"gzip\",\n",
        "                         sep=\",\", schema=mySchema, header=\"true\")\n",
        "dataset = dataset.withColumn(\"Input\",split(regexp_replace(\"Input\",\"[\\[\\s\\]]\",\"\"),\"\\,\"))\n",
        "dataset = dataset.withColumn(\"Output\",split(\"Output\",\"\\]\\, \\[\"))\n",
        "dataset = dataset.sample(fraction=1/10, seed=42)\n",
        "dataset.createOrReplaceTempView(\"data\")\n",
        "\n",
        "inputSDF = spark.sql( \"\"\"SELECT txid, height, EXPLODE(input) AS input, sum, time\n",
        "                                  FROM data\"\"\")\n",
        "inputSDF.createOrReplaceTempView(\"input\")\n",
        "inputSDF.printSchema()\n",
        "\n",
        "\n",
        "outputSDF = spark.sql( \"\"\"SELECT txid, height, EXPLODE(output) AS output, sum, time\n",
        "                                      FROM data\"\"\")\n",
        "outputSDF = outputSDF.withColumn(\"output\",split(regexp_replace(\"output\",\"[\\[\\]]\",\"\"),\"\\,\"))\n",
        "outputSDF = outputSDF.withColumn(\"value\",expr(\"CAST(output[1] AS FLOAT)\"))\n",
        "outputSDF = outputSDF.withColumn(\"output\",expr(\"output[0]\"))\n",
        "outputSDF.createOrReplaceTempView(\"output\")\n",
        "outputSDF.printSchema()\n",
        "\n",
        "transactionSDF = spark.sql( \"\"\"SELECT txid, height, sum, time\n",
        "                                  FROM data\"\"\")\n",
        "transactionSDF.createOrReplaceTempView(\"transaction\")\n",
        "transactionSDF.printSchema()"
      ],
      "metadata": {
        "colab": {
          "base_uri": "https://localhost:8080/"
        },
        "id": "2aUjXcLdS5CO",
        "outputId": "55505d73-4c4f-484a-a213-1207997eaf39"
      },
      "execution_count": null,
      "outputs": [
        {
          "output_type": "stream",
          "name": "stdout",
          "text": [
            "root\n",
            " |-- txid: string (nullable = true)\n",
            " |-- height: integer (nullable = true)\n",
            " |-- input: string (nullable = false)\n",
            " |-- sum: float (nullable = true)\n",
            " |-- time: timestamp (nullable = true)\n",
            "\n",
            "root\n",
            " |-- txid: string (nullable = true)\n",
            " |-- height: integer (nullable = true)\n",
            " |-- output: string (nullable = true)\n",
            " |-- sum: float (nullable = true)\n",
            " |-- time: timestamp (nullable = true)\n",
            " |-- value: float (nullable = true)\n",
            "\n",
            "root\n",
            " |-- txid: string (nullable = true)\n",
            " |-- height: integer (nullable = true)\n",
            " |-- sum: float (nullable = true)\n",
            " |-- time: timestamp (nullable = true)\n",
            "\n"
          ]
        }
      ]
    },
    {
      "cell_type": "markdown",
      "metadata": {
        "id": "Oszh-5CgVBLl"
      },
      "source": [
        "### Bitcoin price\n",
        "\n",
        "This dataset has, for each day, the USD price of one bitcoin. The file is ```btc_price.csv```.\n"
      ]
    },
    {
      "cell_type": "code",
      "execution_count": null,
      "metadata": {
        "tags": [],
        "colab": {
          "base_uri": "https://localhost:8080/"
        },
        "id": "4KjclYa5VBLl",
        "outputId": "20985966-27c4-4b4d-9ad2-fe8c6de31f70"
      },
      "outputs": [
        {
          "output_type": "stream",
          "name": "stdout",
          "text": [
            "           Date    Price\n",
            "0    2009-01-15      0.1\n",
            "1    2009-01-16      0.1\n",
            "2    2009-01-17      0.1\n",
            "3    2009-01-18      0.1\n",
            "4    2009-01-19      0.1\n",
            "...         ...      ...\n",
            "5417 2023-11-15  37874.9\n",
            "5418 2023-11-16  36161.2\n",
            "5419 2023-11-17  36595.4\n",
            "5420 2023-11-18  36568.6\n",
            "5421 2023-11-19  36792.1\n",
            "\n",
            "[5422 rows x 2 columns]\n"
          ]
        },
        {
          "output_type": "execute_result",
          "data": {
            "text/plain": [
              "Date     datetime64[ns]\n",
              "Price           float64\n",
              "dtype: object"
            ]
          },
          "metadata": {},
          "execution_count": 6
        }
      ],
      "source": [
        "date_cols = [\"Date\"]\n",
        "path = os.path.join(DATASET_DIR, BTCPRICE_FILE)\n",
        "\n",
        "priceDF = pd.read_csv( path,parse_dates=date_cols)\n",
        "print(priceDF)\n",
        "priceDF.dtypes"
      ]
    },
    {
      "cell_type": "markdown",
      "metadata": {
        "id": "khF0tTu4VBLm"
      },
      "source": [
        "### Bitcoin tags\n",
        "\n",
        "This dataset includes a set of files with different types of addresses.\n",
        "Currently there are several files for different types of entities.\n",
        "\n",
        "A new dataset file, easier to process, will be made available soon in the same directory.\n"
      ]
    },
    {
      "cell_type": "markdown",
      "metadata": {
        "id": "EMxHiZm-2TMF"
      },
      "source": [
        "## Part 0\n",
        "\n",
        "This example computes, for each address, the number of transactions in which the address has been involved.\n",
        "\n",
        "We have the code using Spark and Pandas, printing the time for doing the computation.\n",
        "**Draw some conclusions** by comparing the time for performing the computation using Spark and Pandas, and also when using the different datasets - **Make sure you run each cell more than once and write down the last value**."
      ]
    },
    {
      "cell_type": "markdown",
      "metadata": {
        "id": "XGTMYKxV7n-U"
      },
      "source": [
        "### Pandas code"
      ]
    },
    {
      "cell_type": "code",
      "execution_count": null,
      "metadata": {
        "id": "WD1vz2Ha7ray",
        "colab": {
          "base_uri": "https://localhost:8080/"
        },
        "outputId": "1406052f-a7f3-4ff4-c0f3-b18a97700fdf"
      },
      "outputs": [
        {
          "output_type": "stream",
          "name": "stdout",
          "text": [
            "                                     cnt_in   cnt_out       cnt\n",
            "1dice8EMZmqKvrGE4Qc9bUFf9PX3xaYDp  156000.0  154285.0  310285.0\n",
            "1dice97ECuByXAvqXpaYzSaQuPVvrtmz6  145342.0  145236.0  290578.0\n",
            "1dice9wcMu5hLF4g81u8nioL5mmSHTApw   89521.0   89427.0  178948.0\n",
            "1dice7fUkz5h4z2wPc1wLMPWgB5mDwKDx   69890.0   69741.0  139631.0\n",
            "1dice7W2AicHosf5EL3GFDUVga7TgtPFn   63969.0   63892.0  127861.0\n",
            "1VayNert3x1KzbpzMGt2qdqrAThiRovi8   52129.0   52297.0  104426.0\n",
            "1diceDCd27Cc22HV3qPNZKwGnZ8QwhLTc   50376.0   50032.0  100408.0\n",
            "1dice1e6pdhLzzWQq7yMidf6j8eAg7pkY   44032.0   44241.0   88273.0\n",
            "1dice6YgEVBf88erBFra9BHf6ZMoyvG88   39163.0   39059.0   78222.0\n",
            "1dice7EYzJag7SxkdKXLr8Jn14WUb3Cf1   37015.0   36795.0   73810.0\n",
            "Runtime = 235.94536519050598\n"
          ]
        }
      ],
      "source": [
        "start_time = time.time()\n",
        "\n",
        "date_cols = [\"Time\"]\n",
        "path = os.path.join(DATASET_DIR, TXDATA_FILE2)\n",
        "df = pd.read_csv( path,compression=\"gzip\",parse_dates=date_cols)\n",
        "\n",
        "df['Input'] = df['Input'].apply(ast.literal_eval)\n",
        "df['Output'] = df['Output'].apply(ast.literal_eval)\n",
        "\n",
        "inputDF = df[[\"TxId\",\"Height\",\"Input\",\"Sum\",\"Time\"]].explode(\"Input\")\n",
        "\n",
        "outputDF = df[[\"TxId\",\"Height\",\"Output\",\"Sum\",\"Time\"]].explode(\"Output\")\n",
        "#outputDF[[\"Output\",\"Value\"]] = outputDF[\"Output\"].to_list()\n",
        "outputDF = outputDF.dropna(subset=['Output'])  # Remove NaNs if any\n",
        "outputDF['Output'], outputDF['Value'] = zip(*outputDF['Output'].apply(lambda x: x if len(x) == 2 else (None, None)))\n",
        "\n",
        "addr_in = inputDF[['Input','TxId']].groupby('Input').count().rename(columns={'TxId':\"cnt_in\"})\n",
        "addr_out = outputDF[['Output','TxId']].groupby('Output').count().rename(columns={'TxId':\"cnt_out\"})\n",
        "addr=addr_in.join(addr_out,how=\"outer\").fillna(0)\n",
        "addr[\"cnt\"] = addr[\"cnt_in\"] + addr[\"cnt_out\"]\n",
        "print(addr.nlargest(10,\"cnt\"))\n",
        "\n",
        "\n",
        "end_time = time.time()\n",
        "\n",
        "print( \"Runtime = \" + str(end_time - start_time))\n"
      ]
    },
    {
      "cell_type": "markdown",
      "metadata": {
        "id": "FAMxFNXT7rwu"
      },
      "source": [
        "### Results (Pandas)\n",
        "\n",
        "The time to process the small dataset was : **0.8033947944641113** seconds.\n",
        "\n",
        "The time to process the large dataset was : **235.94536519050598** seconds."
      ]
    },
    {
      "cell_type": "markdown",
      "metadata": {
        "id": "ASS443Y77Qo2"
      },
      "source": [
        "### Spark SQL code"
      ]
    },
    {
      "cell_type": "code",
      "execution_count": null,
      "metadata": {
        "id": "RryvCjhdEcwT",
        "colab": {
          "base_uri": "https://localhost:8080/"
        },
        "outputId": "523b4e17-ade0-4a46-a78a-bac0f2ac8524"
      },
      "outputs": [
        {
          "output_type": "stream",
          "name": "stdout",
          "text": [
            "+-----------------------------------+------+------+-------+\n",
            "|addr                               |cnt   |cnt_in|cnt_out|\n",
            "+-----------------------------------+------+------+-------+\n",
            "|'1dice8EMZmqKvrGE4Qc9bUFf9PX3xaYDp'|310285|156000|154285 |\n",
            "|'1dice97ECuByXAvqXpaYzSaQuPVvrtmz6'|290578|145342|145236 |\n",
            "|'1dice9wcMu5hLF4g81u8nioL5mmSHTApw'|178948|89521 |89427  |\n",
            "|'1dice7fUkz5h4z2wPc1wLMPWgB5mDwKDx'|139631|69890 |69741  |\n",
            "|'1dice7W2AicHosf5EL3GFDUVga7TgtPFn'|127861|63969 |63892  |\n",
            "|'1VayNert3x1KzbpzMGt2qdqrAThiRovi8'|104426|52129 |52297  |\n",
            "|'1diceDCd27Cc22HV3qPNZKwGnZ8QwhLTc'|100408|50376 |50032  |\n",
            "|'1dice1e6pdhLzzWQq7yMidf6j8eAg7pkY'|88273 |44032 |44241  |\n",
            "|'1dice6YgEVBf88erBFra9BHf6ZMoyvG88'|78222 |39163 |39059  |\n",
            "|'1dice7EYzJag7SxkdKXLr8Jn14WUb3Cf1'|73810 |37015 |36795  |\n",
            "+-----------------------------------+------+------+-------+\n",
            "\n",
            "Runtime = 109.76431059837341\n"
          ]
        }
      ],
      "source": [
        "spark = SparkSession \\\n",
        "    .builder \\\n",
        "    .master(\"local[*]\") \\\n",
        "    .appName(\"Group project\") \\\n",
        "    .getOrCreate()\n",
        "\n",
        "start_time = time.time()\n",
        "\n",
        "path = os.path.join(DATASET_DIR, TXDATA_FILE2)\n",
        "mySchema = StructType([\n",
        "    StructField(\"TxId\", StringType()),\n",
        "    StructField(\"Height\", IntegerType()),\n",
        "    StructField(\"Input\", StringType()),\n",
        "    StructField(\"Output\", StringType()),\n",
        "    StructField(\"Sum\", FloatType()),\n",
        "    StructField(\"Time\", TimestampType()),\n",
        "])\n",
        "\n",
        "dataset = spark.read.load(path, format=\"csv\", compression=\"gzip\",\n",
        "                         sep=\",\", schema=mySchema, header=\"true\")\n",
        "dataset = dataset.withColumn(\"Input\",split(regexp_replace(\"Input\",\"[\\[\\s\\]]\",\"\"),\"\\,\"))\n",
        "dataset = dataset.withColumn(\"Output\",split(\"Output\",\"\\]\\, \\[\"))\n",
        "dataset.createOrReplaceTempView(\"data\")\n",
        "\n",
        "inputSDF = spark.sql( \"\"\"SELECT txid, height, EXPLODE(input) AS input, sum, time\n",
        "                                  FROM data\"\"\")\n",
        "inputSDF.createOrReplaceTempView(\"input\")\n",
        "\n",
        "outputSDF = spark.sql( \"\"\"SELECT txid, height, EXPLODE(output) AS output, sum, time\n",
        "                                      FROM data\"\"\")\n",
        "outputSDF = outputSDF.withColumn(\"output\",split(regexp_replace(\"output\",\"[\\[\\]]\",\"\"),\"\\,\"))\n",
        "outputSDF = outputSDF.withColumn(\"value\",expr(\"CAST(output[1] AS FLOAT)\"))\n",
        "outputSDF = outputSDF.withColumn(\"output\",expr(\"output[0]\"))\n",
        "outputSDF.createOrReplaceTempView(\"output\")\n",
        "\n",
        "spark.sql( \"\"\"SELECT i.addr, cnt_in + cnt_out AS cnt, cnt_in, cnt_out FROM (\n",
        "              (SELECT input AS addr, COUNT(*) AS cnt_in FROM input GROUP BY input) i FULL OUTER JOIN\n",
        "              (SELECT output AS addr, COUNT(*) AS cnt_out FROM output GROUP BY output) o ON i.addr = o.addr)\n",
        "                ORDER BY cnt DESC\n",
        "                LIMIT 10\"\"\").show(truncate=False)\n",
        "end_time = time.time()\n",
        "\n",
        "print( \"Runtime = \" + str(end_time - start_time))\n"
      ]
    },
    {
      "cell_type": "markdown",
      "metadata": {
        "id": "aS1p9t707Uvu"
      },
      "source": [
        "### Results (Spark)\n",
        "\n",
        "The time to process the small dataset was : **1.6324033737182617** seconds.\n",
        "\n",
        "The time to process the large dataset was : **109.18929481506348** seconds.\n",
        "\n"
      ]
    },
    {
      "cell_type": "markdown",
      "metadata": {
        "id": "QWFmcsKV7mtn"
      },
      "source": [
        "### Discussion:\n",
        "\n",
        "PySpark is ideal for large databases due to its distributed computing and in-memory processing, enabling fast, parallel processing of big data across multiple machines. This is the reason why it is much faster than pandas in doing calculations on the larger dataset.\n",
        "However the parallel processing metod utilized is not efficient when dealing with small dataset as transferring data from a machine to another is an expensive task in terms of time.\n",
        "For this reason Pandas is better for smaller datasets. It operates efficiently on a single machine with an in-memory data structure, offering fast data manipulation with a simple syntax.\n",
        "\n"
      ]
    },
    {
      "cell_type": "markdown",
      "metadata": {
        "id": "Kvp6FprNVBLp"
      },
      "source": [
        "## Part 1\n",
        "\n",
        "This first group consists in computing some statistics on the infomration available in the dataset.\n",
        "\n",
        "The smallest dataset might lead to strange results for some statistics. Use it while you are developing you project, but if you run into strange results, just use a larger one.\n",
        "\n",
        "\n"
      ]
    },
    {
      "cell_type": "markdown",
      "metadata": {
        "id": "85FumtefVBLp"
      },
      "source": [
        "### Top-10 largest transactions\n",
        "\n",
        "Display the top 10 largest transactions in terms of bitcoin currency."
      ]
    },
    {
      "cell_type": "code",
      "source": [
        "transactionSDF.createOrReplaceTempView(\"transactions\")\n",
        "top10 = spark.sql(\"\"\"\n",
        "    SELECT *\n",
        "    FROM transactions\n",
        "    ORDER BY Sum DESC\n",
        "    LIMIT 10\n",
        "\"\"\")\n",
        "top10.show()\n"
      ],
      "metadata": {
        "id": "3Y1IvWtHb9H_",
        "colab": {
          "base_uri": "https://localhost:8080/"
        },
        "outputId": "b2547386-2803-42fd-c85e-1cda5c3aafc9"
      },
      "execution_count": null,
      "outputs": [
        {
          "output_type": "stream",
          "name": "stdout",
          "text": [
            "+---------+------+---------+-------------------+\n",
            "|     txid|height|      sum|               time|\n",
            "+---------+------+---------+-------------------+\n",
            "|230689:12|230689|21434.684|2013-04-10 19:22:31|\n",
            "| 224249:1|224249|21266.498|2013-03-04 16:43:10|\n",
            "| 233977:0|233977|15116.423|2013-05-01 00:25:58|\n",
            "| 231692:0|231692|  14999.0|2013-04-16 20:12:45|\n",
            "| 233065:0|233065|14995.875|2013-04-25 12:12:28|\n",
            "| 225171:0|225171|13854.495|2013-03-10 10:58:55|\n",
            "|231521:39|231521|12653.816|2013-04-15 20:24:44|\n",
            "| 226024:0|226024|11459.878|2013-03-15 16:39:43|\n",
            "| 231849:0|231849|  11102.9|2013-04-17 18:13:53|\n",
            "| 231889:6|231889|10838.701|2013-04-18 00:07:35|\n",
            "+---------+------+---------+-------------------+\n",
            "\n"
          ]
        }
      ]
    },
    {
      "cell_type": "markdown",
      "metadata": {
        "id": "S0sPSj75VBLq"
      },
      "source": [
        "### Top-10 largest transactions (in USD)\n",
        "\n",
        "Display the top 10 largest transactions in terms of bitcoin currency."
      ]
    },
    {
      "cell_type": "code",
      "source": [
        "from pyspark.sql.types import DateType\n",
        "\n",
        "priceSchema = StructType([\n",
        "    StructField(\"Date\", DateType()),\n",
        "    StructField(\"Price\", FloatType()),\n",
        "])\n",
        "\n",
        "# Load the CSV file into a Spark DataFrame\n",
        "path = os.path.join(DATASET_DIR, BTCPRICE_FILE)\n",
        "priceDF = spark.read.csv(path, schema=priceSchema, header=True)\n",
        "\n",
        "priceDF.createOrReplaceTempView(\"price_data\")\n",
        "\n",
        "resultDF = spark.sql(\"SELECT * FROM price_data\")\n"
      ],
      "metadata": {
        "id": "RAzkmT_Db-x3"
      },
      "execution_count": null,
      "outputs": []
    },
    {
      "cell_type": "code",
      "source": [
        "from pyspark.sql.functions import to_date, to_timestamp, col\n",
        "\n",
        "# Convert 'Time' to datetime format and create a 'Date' column in transactionSDF\n",
        "transactionSDF = transactionSDF.withColumn(\"Time\", to_timestamp(\"Time\"))\n",
        "transactionSDF = transactionSDF.withColumn(\"Date\", to_date(\"Time\"))\n",
        "\n",
        "# Convert 'Date' to date format in priceDF\n",
        "priceDF = priceDF.withColumn(\"Date\", to_date(\"Date\"))\n",
        "\n",
        "transactionSDF.createOrReplaceTempView(\"transaction_data\")\n",
        "priceDF.createOrReplaceTempView(\"price_data\")\n",
        "\n",
        "# Joining the two datasets on 'Date'\n",
        "df_joined = spark.sql(\"\"\"\n",
        "    SELECT t.*, p.Price, t.Sum * p.Price as USD_Value\n",
        "    FROM transaction_data t\n",
        "    JOIN price_data p ON t.Date = p.Date\n",
        "\"\"\")\n",
        "\n",
        "# Registering the joined DataFrame as a temporary view\n",
        "df_joined.createOrReplaceTempView(\"joined_data\")\n",
        "\n",
        "# Calculating the 10 largest transactions in USD and displaying them\n",
        "top_10 = spark.sql(\"\"\"\n",
        "    SELECT *\n",
        "    FROM joined_data\n",
        "    ORDER BY USD_Value DESC\n",
        "    LIMIT 10\n",
        "\"\"\")\n",
        "top_10.show()"
      ],
      "metadata": {
        "id": "b9C26xLJcQKo",
        "colab": {
          "base_uri": "https://localhost:8080/"
        },
        "outputId": "c2914d15-343d-41ae-c9c8-bc7025779aab"
      },
      "execution_count": null,
      "outputs": [
        {
          "output_type": "stream",
          "name": "stdout",
          "text": [
            "+----------+------+---------+-------------------+----------+-----+---------+\n",
            "|      txid|height|      sum|               Time|      Date|Price|USD_Value|\n",
            "+----------+------+---------+-------------------+----------+-----+---------+\n",
            "| 230689:12|230689|21434.684|2013-04-10 19:22:31|2013-04-10|165.0|3536722.8|\n",
            "|  233065:0|233065|14995.875|2013-04-25 12:12:28|2013-04-25|141.7|2124915.5|\n",
            "|  233977:0|233977|15116.423|2013-05-01 00:25:58|2013-05-01|116.4|1759551.6|\n",
            "| 230691:53|230691|  9434.66|2013-04-10 19:34:39|2013-04-10|165.0|1556718.9|\n",
            "|232937:291|232937| 9976.466|2013-04-24 16:15:09|2013-04-24|154.2|1538371.0|\n",
            "|  230684:0|230684|   9000.0|2013-04-10 18:52:41|2013-04-10|165.0|1485000.0|\n",
            "|  233013:0|233013|  9999.99|2013-04-25 04:28:00|2013-04-25|141.7|1416998.6|\n",
            "| 230707:15|230707|   7723.0|2013-04-10 21:45:59|2013-04-10|165.0|1274295.0|\n",
            "|  231889:6|231889|10838.701|2013-04-18 00:07:35|2013-04-18|109.0|1181418.4|\n",
            "| 231891:24|231891|10819.958|2013-04-18 00:07:47|2013-04-18|109.0|1179375.4|\n",
            "+----------+------+---------+-------------------+----------+-----+---------+\n",
            "\n"
          ]
        }
      ]
    },
    {
      "cell_type": "markdown",
      "metadata": {
        "id": "C8WombzmVBLq"
      },
      "source": [
        "### Evolution of the number of transactions over time\n",
        "\n",
        "Display a graph that shows the evolution of the number of transactions over time.\n"
      ]
    },
    {
      "cell_type": "code",
      "source": [
        "from pyspark.sql.functions import to_date\n",
        "\n",
        "# Convert 'Time' to date format\n",
        "transactionSDF = transactionSDF.withColumn(\"Time\", to_date(\"Time\"))\n",
        "\n",
        "transactionSDF.createOrReplaceTempView(\"transaction_data\")\n",
        "\n",
        "transactionDF3 = spark.sql(\"\"\"\n",
        "    SELECT Time, COUNT(*) as cnt\n",
        "    FROM transaction_data\n",
        "    GROUP BY Time\n",
        "    ORDER BY Time\n",
        "\"\"\")\n",
        "\n",
        "import matplotlib.pyplot as plt\n",
        "\n",
        "# Collect the data for plotting\n",
        "plot_data = transactionDF3.collect()\n",
        "\n",
        "# Extracting Time and cnt for plotting\n",
        "times = [row['Time'] for row in plot_data]\n",
        "counts = [row['cnt'] for row in plot_data]\n",
        "\n",
        "# Plotting using Matplotlib\n",
        "plt.figure(figsize=(12, 10))\n",
        "plt.plot(times, counts)\n",
        "plt.xlabel('Time')\n",
        "plt.ylabel('Number of Transactions')\n",
        "plt.title('Evolution of the number of transactions over time')\n",
        "plt.show()"
      ],
      "metadata": {
        "id": "-mXej6h2cWLZ",
        "colab": {
          "base_uri": "https://localhost:8080/",
          "height": 871
        },
        "outputId": "8435575a-bf68-4630-e179-94eabb58642d"
      },
      "execution_count": null,
      "outputs": [
        {
          "output_type": "display_data",
          "data": {
            "text/plain": [
              "<Figure size 1200x1000 with 1 Axes>"
            ],
            "image/png": "[encoded data removed]"
          },
          "metadata": {}
        }
      ]
    },
    {
      "cell_type": "markdown",
      "metadata": {
        "id": "negByTMdVBLr"
      },
      "source": [
        "### Evolution of currency transferred over time\n",
        "\n",
        "Display a graph that shows the evolution of the amount of currency transferred (in BTC and USD) over time.\n"
      ]
    },
    {
      "cell_type": "code",
      "source": [
        "from pyspark.sql.functions import to_date, col\n",
        "\n",
        "# Convert 'Date' to date format and sort priceDF\n",
        "priceDF = priceDF.withColumn(\"Date\", to_date(\"Date\"))\n",
        "priceDF = priceDF.orderBy(\"Date\")\n",
        "\n",
        "# Register priceDF as a temporary view\n",
        "priceDF.createOrReplaceTempView(\"price_data\")\n",
        "\n",
        "# Group by 'Time' and sum the 'Sum' column in transactionSDF\n",
        "transactionSDF.createOrReplaceTempView(\"transaction_data\")\n",
        "transactionDF4 = spark.sql(\"\"\"\n",
        "    SELECT Time, SUM(Sum) as Sum\n",
        "    FROM transaction_data\n",
        "    GROUP BY Time\n",
        "\"\"\")\n",
        "\n",
        "# Register the resulting DataFrame as a temporary view\n",
        "transactionDF4.createOrReplaceTempView(\"grouped_transaction_data\")\n",
        "\n",
        "# Join the DataFrames\n",
        "mergedDF = spark.sql(\"\"\"\n",
        "    SELECT t.Time, t.Sum, p.Price, (t.Sum * p.Price) as USD\n",
        "    FROM grouped_transaction_data t\n",
        "    INNER JOIN price_data p ON t.Time = p.Date\n",
        "\"\"\")\n",
        "\n",
        "# Rename 'Sum' to 'BTC'\n",
        "mergedDF = mergedDF.withColumnRenamed(\"Sum\", \"BTC\")\n",
        "\n",
        "# Register the joined DataFrame as a temporary view\n",
        "mergedDF.createOrReplaceTempView(\"merged_data\")\n",
        "\n",
        "# Order by 'Time'\n",
        "mergedDF = spark.sql(\"\"\"\n",
        "    SELECT Time, BTC, USD\n",
        "    FROM merged_data\n",
        "    ORDER BY Time\n",
        "\"\"\")\n"
      ],
      "metadata": {
        "id": "b1oS0d3Ccl14"
      },
      "execution_count": null,
      "outputs": []
    },
    {
      "cell_type": "code",
      "source": [
        "import matplotlib.pyplot as plt\n",
        "\n",
        "# Collect the data for plotting\n",
        "plot_data = mergedDF.collect()\n",
        "\n",
        "# Extract 'Time', 'BTC', and 'USD' for plotting\n",
        "times = [row['Time'] for row in plot_data]\n",
        "usd_values = [row['USD'] for row in plot_data]\n",
        "btc_values = [row['BTC'] for row in plot_data]\n",
        "\n",
        "# Creating the plot\n",
        "fig, ax1 = plt.subplots(figsize=(12, 10))\n",
        "\n",
        "# Plot the 'USD' data\n",
        "ax1.plot(times, usd_values, label='USD', color='b')\n",
        "ax1.set_xlabel('Time')\n",
        "ax1.set_ylabel('USD', color='b')\n",
        "ax1.tick_params(axis='y', labelcolor='b')\n",
        "\n",
        "# Create a secondary y-axis for 'BTC'\n",
        "ax2 = ax1.twinx()\n",
        "ax2.plot(times, btc_values, label='BTC', color='r')\n",
        "ax2.set_ylabel('BTC', color='r')\n",
        "ax2.tick_params(axis='y', labelcolor='r')\n",
        "\n",
        "plt.title('Evolution of the amount of currency transferred (in BTC and USD) over time')\n",
        "fig.tight_layout()  # Adjust the layout\n",
        "plt.show()"
      ],
      "metadata": {
        "id": "G_tbtjrBcp6Q",
        "colab": {
          "base_uri": "https://localhost:8080/",
          "height": 1000
        },
        "outputId": "dfcf5427-dac7-495a-f167-8b504ecbf5cb"
      },
      "execution_count": null,
      "outputs": [
        {
          "output_type": "display_data",
          "data": {
            "text/plain": [
              "<Figure size 1200x1000 with 2 Axes>"
            ],
            "image/png": "[encoded data removed]"
          },
          "metadata": {}
        }
      ]
    },
    {
      "cell_type": "markdown",
      "metadata": {
        "id": "kdxYNEU7VBLr"
      },
      "source": [
        "## Part 2\n",
        "\n",
        "Assume you want to create a web site with infomration about bitcoin. In this website, a user could go and get some statistics for any Bitcoin address. You can select the statistics you want to maintain - you should maintain at least three statistics - suggestions: address account balance (mandatory); top-3 commercial partners; average transaction value.\n",
        "\n",
        "To support this web site, it would be necessary to build one or more indices that would be used to answer the query of the user. In this context a index is a table that maps an address to a value of the statistics being computed.\n",
        "\n",
        "Write the code to build these indices - for each index, print 5 lines.\n",
        "\n",
        "**NOTE:** use the data from a single dataset file (even knowing that the value of the account balance would need to include processing all transactions).\n"
      ]
    },
    {
      "cell_type": "code",
      "source": [
        "df_joined = inputDF.join(outputDF.set_index('TxId'), on= 'TxId', how= 'outer', rsuffix='_output')\n",
        "df_joined.drop(['Sum_output', 'Time_output'], axis= 1, inplace= True)\n"
      ],
      "metadata": {
        "id": "uHmoYIRcc6Xv"
      },
      "execution_count": null,
      "outputs": []
    },
    {
      "cell_type": "code",
      "source": [
        "# Group by 'Input' in input_df and sum the 'Sum' column\n",
        "input_sums = inputDF.groupby('Input')['Sum'].sum()\n",
        "\n",
        "# Group by 'Output' in output_df and sum the 'Value' column\n",
        "output_sums = outputDF.groupby('Output')['Value'].sum()\n",
        "\n",
        "# Combine the two series into a single dataframe, with input sums being subtracted and output sums added\n",
        "balance_df = pd.DataFrame({'Balance': output_sums}).join(pd.DataFrame({'Balance': -input_sums}), how='outer', lsuffix='_out', rsuffix='_in')\n",
        "\n",
        "# Fill NaN values with 0 and sum the balances\n",
        "balance_df['Balance'] = balance_df.fillna(0)['Balance_out'] + balance_df.fillna(0)['Balance_in']\n",
        "\n",
        "# Sort the dataframe by balance in descending order\n",
        "balance_df = balance_df.sort_values(by='Balance', ascending=False)"
      ],
      "metadata": {
        "id": "LN1kQXxFVHAj"
      },
      "execution_count": null,
      "outputs": []
    },
    {
      "cell_type": "code",
      "source": [
        "#IMPORTANT!! Restart the kernel without PySpark before running this\n",
        "# Let's start by calculating some statistics, we'll start by calculating the age of each address:\n",
        "\n",
        "# Convert the 'Time' column to datetime if not already done\n",
        "inputDF['Time'] = pd.to_datetime(inputDF['Time'])\n",
        "outputDF['Time'] = pd.to_datetime(outputDF['Time'])\n",
        "\n",
        "# Calculate the earliest and latest times using pandas methods\n",
        "earliest_time = min(inputDF['Time'].min(), outputDF['Time'].min())\n",
        "latest_time = max(inputDF['Time'].max(), outputDF['Time'].max())\n",
        "total_period = (latest_time - earliest_time).days\n",
        "\n",
        "# Calculating the age of each address in days\n",
        "first_input_time = inputDF.groupby('Input')['Time'].min()\n",
        "first_output_time = outputDF.groupby('Output')['Time'].min()\n",
        "\n",
        "# Combining the first transaction times\n",
        "first_transaction_time = pd.concat([first_input_time, first_output_time], axis=1)\n",
        "first_transaction_time['First_Time'] = first_transaction_time.min(axis=1)\n",
        "\n",
        "# Calculating the age of each address\n",
        "address_age = (latest_time - first_transaction_time['First_Time']).dt.days\n",
        "\n",
        "# The 'address_age' series now contains the age of each address in days\n",
        "address_age_df = address_age.reset_index()\n",
        "address_age_df.columns = ['Address', 'address_age']\n",
        "#address_age_df.head()"
      ],
      "metadata": {
        "id": "MH08j64W0JJa"
      },
      "execution_count": null,
      "outputs": []
    },
    {
      "cell_type": "code",
      "source": [
        "# Calculate total transaction values for each address in the input and output dataframes\n",
        "input_total_values = inputDF.groupby('Input')['Sum'].sum()\n",
        "output_total_values = outputDF.groupby('Output')['Value'].sum()\n",
        "\n",
        "# Calculate transaction counts for each address in the input and output dataframes\n",
        "input_transaction_counts = inputDF.groupby('Input').size()\n",
        "output_transaction_counts = outputDF.groupby('Output').size()\n",
        "\n",
        "# Combine total values and counts for each address\n",
        "total_values = input_total_values.add(output_total_values, fill_value=0)\n",
        "transaction_counts = input_transaction_counts.add(output_transaction_counts, fill_value=0)\n",
        "\n",
        "# Calculate the average transaction value for each address\n",
        "average_transaction_values = total_values / transaction_counts\n",
        "\n",
        "# Sort the series by average transaction value in descending order\n",
        "average_transaction_values_sorted = average_transaction_values.sort_values(ascending=False)\n",
        "\n",
        "average_transaction_values_sorted.head(10) # Display the top 10 addresses by average transaction value\n",
        "\n",
        "# Convert the series to a DataFrame and reset the index\n",
        "average_transaction_values_df = average_transaction_values_sorted.reset_index()\n",
        "average_transaction_values_df.columns = ['Address', 'Average_Transaction_Value']\n",
        "\n",
        "\n",
        "average_transaction_values_df['Average_Transaction_Value_Per_Day']= average_transaction_values_df['Average_Transaction_Value']/ total_period\n",
        "average_transaction_values_df['Average_Transaction_Value_Per_Week']= average_transaction_values_df['Average_Transaction_Value']/ (total_period/7)\n",
        "average_transaction_values_df['Average_Transaction_Value_Per_Month']= average_transaction_values_df['Average_Transaction_Value']/ (total_period/30)\n",
        "average_transaction_values_df['Average_Transaction_Value_Per_Quarter']= average_transaction_values_df['Average_Transaction_Value']/ (total_period/91)\n",
        "\n",
        "#average_transaction_values_df.head()"
      ],
      "metadata": {
        "id": "XFcKMrhzc_RS"
      },
      "execution_count": null,
      "outputs": []
    },
    {
      "cell_type": "code",
      "source": [
        "# Number of times that the address appears in the Input\n",
        "N_of_input = inputDF.groupby('Input').size().astype(float)\n",
        "N_of_input = N_of_input.reset_index()\n",
        "N_of_input.columns = ['Address', 'N_of_Inputs']\n",
        "\n",
        "#display(N_of_input.head())\n",
        "\n",
        "# Number of times that the address appears in the Output\n",
        "N_of_output = outputDF.groupby('Output').size()\n",
        "N_of_output = N_of_output.reset_index()\n",
        "N_of_output.columns = ['Address', 'N_of_Output']\n",
        "\n",
        "#display(N_of_output.head())\n",
        "\n",
        "# Merging the two datasets\n",
        "input_output_df = N_of_input.merge(N_of_output, on='Address', how='left').fillna(0)\n",
        "#display(input_output_df.head())"
      ],
      "metadata": {
        "id": "19cnDpGIM24E"
      },
      "execution_count": null,
      "outputs": []
    },
    {
      "cell_type": "code",
      "source": [
        "# Extracting the 'Input' and 'Output' columns\n",
        "input_addresses = inputDF['Input']\n",
        "output_addresses = outputDF['Output']\n",
        "\n",
        "# Concatenating and dropping duplicates to get unique addresses\n",
        "unique_addresses = pd.concat([input_addresses, output_addresses]).drop_duplicates().reset_index(drop=True)\n",
        "\n",
        "# Creating a new dataframe with these unique addresses\n",
        "websiteDF = pd.DataFrame(unique_addresses, columns=['Address'])\n",
        "\n",
        "websiteDF = websiteDF.merge(address_age_df, on='Address', how='left')\n",
        "\n",
        "# Display the first few rows of the new dataframe\n",
        "websiteDF = websiteDF.merge(balance_df, left_on='Address', right_index=True, how='left')\n",
        "\n",
        "# Display the first few rows of the final merged dataframe\n",
        "websiteDF = websiteDF.merge(input_output_df, on='Address', how='left').fillna(0)\n",
        "\n",
        "# Merge the average transaction values DataFrame with the address_df DataFrame\n",
        "websiteDF = websiteDF.merge(average_transaction_values_df, on='Address', how='left')\n",
        "\n",
        "websiteDF"
      ],
      "metadata": {
        "colab": {
          "base_uri": "https://localhost:8080/",
          "height": 431
        },
        "id": "J2Rkbil5v5P2",
        "outputId": "f4c9c60a-c971-462b-aea9-180a041f6a17"
      },
      "execution_count": null,
      "outputs": [
        {
          "output_type": "execute_result",
          "data": {
            "text/plain": [
              "                                   Address  address_age  Balance_out  \\\n",
              "0        1dice97ECuByXAvqXpaYzSaQuPVvrtmz6           62  5454.509437   \n",
              "1       1HcdBWHCEkMf6WgTnjAse6Q5LWtNu5tAqW           32     0.000000   \n",
              "2       1DASNHJLuqkwezyNLStC85s5d92FuutqiJ           17     0.014466   \n",
              "3       1EkUCz9okAjBofU7HEGXkNo61cCJTsqLPA           17     0.000000   \n",
              "4       1C6K5PJUU8oe9GxVPDbRH1cs6FDbHMQNHs           23     0.000000   \n",
              "...                                    ...          ...          ...   \n",
              "619443  13FoML1UvV2YEjZud4Js4Jq1stLrSos8ie           10     0.120231   \n",
              "619444  19udyqxHeoNRiHA6RF3zeCgw1qbn4xQorD           45    17.388604   \n",
              "619445  1NGistC71QWeWE7Lp78pc91iyFxKqx1EWX           45     5.400000   \n",
              "619446  12RZy8rfyWY8GZX2uCMuadxYguvALQAPBa           32    40.377926   \n",
              "619447  1F7y8kzRJVo1Fvs4gJW3tfTqmX6QANAwUA           49     1.943348   \n",
              "\n",
              "          Balance_in       Balance  N_of_Inputs  N_of_Output  \\\n",
              "0      -25515.019600 -20060.510164      14504.0      14324.0   \n",
              "1          -1.732852     -1.732852          1.0          0.0   \n",
              "2          -0.012288      0.002178          1.0          1.0   \n",
              "3          -0.012288     -0.012288          1.0          0.0   \n",
              "4         -23.322033    -23.322033          1.0          0.0   \n",
              "...              ...           ...          ...          ...   \n",
              "619443      0.000000      0.120231          0.0          0.0   \n",
              "619444      0.000000     17.388604          0.0          0.0   \n",
              "619445      0.000000      5.400000          0.0          0.0   \n",
              "619446      0.000000     40.377926          0.0          0.0   \n",
              "619447      0.000000      1.943348          0.0          0.0   \n",
              "\n",
              "       Average_Transaction_Value Average_Transaction_Value_Per_Day  \\\n",
              "0                       1.074286                          0.017327   \n",
              "1                       1.732852                          0.027949   \n",
              "2                       0.013377                          0.000216   \n",
              "3                       0.012288                          0.000198   \n",
              "4                      23.322033                          0.376162   \n",
              "...                          ...                               ...   \n",
              "619443                  0.120231                          0.001939   \n",
              "619444                 17.388604                          0.280461   \n",
              "619445                       5.4                          0.087097   \n",
              "619446                 40.377926                          0.651257   \n",
              "619447                  1.943348                          0.031344   \n",
              "\n",
              "       Average_Transaction_Value_Per_Week Average_Transaction_Value_Per_Month  \\\n",
              "0                                 0.12129                            0.519816   \n",
              "1                                0.195645                            0.838477   \n",
              "2                                 0.00151                            0.006473   \n",
              "3                                0.001387                            0.005946   \n",
              "4                                2.633133                           11.284855   \n",
              "...                                   ...                                 ...   \n",
              "619443                           0.013574                            0.058176   \n",
              "619444                           1.963229                            8.413841   \n",
              "619445                           0.609677                            2.612903   \n",
              "619446                           4.558798                           19.537706   \n",
              "619447                            0.21941                             0.94033   \n",
              "\n",
              "       Average_Transaction_Value_Per_Quarter  \n",
              "0                                   1.576775  \n",
              "1                                   2.543379  \n",
              "2                                   0.019634  \n",
              "3                                   0.018036  \n",
              "4                                  34.230726  \n",
              "...                                      ...  \n",
              "619443                              0.176468  \n",
              "619444                             25.521983  \n",
              "619445                              7.925806  \n",
              "619446                             59.264376  \n",
              "619447                              2.852333  \n",
              "\n",
              "[619448 rows x 12 columns]"
            ],
            "text/html": [
              "\n",
              "  <div id=\"df-bee2d294-98ac-469e-bc66-31fcb9ffa10f\" class=\"colab-df-container\">\n",
              "    <div>\n",
              "<style scoped>\n",
              "    .dataframe tbody tr th:only-of-type {\n",
              "        vertical-align: middle;\n",
              "    }\n",
              "\n",
              "    .dataframe tbody tr th {\n",
              "        vertical-align: top;\n",
              "    }\n",
              "\n",
              "    .dataframe thead th {\n",
              "        text-align: right;\n",
              "    }\n",
              "</style>\n",
              "<table border=\"1\" class=\"dataframe\">\n",
              "  <thead>\n",
              "    <tr style=\"text-align: right;\">\n",
              "      <th></th>\n",
              "      <th>Address</th>\n",
              "      <th>address_age</th>\n",
              "      <th>Balance_out</th>\n",
              "      <th>Balance_in</th>\n",
              "      <th>Balance</th>\n",
              "      <th>N_of_Inputs</th>\n",
              "      <th>N_of_Output</th>\n",
              "      <th>Average_Transaction_Value</th>\n",
              "      <th>Average_Transaction_Value_Per_Day</th>\n",
              "      <th>Average_Transaction_Value_Per_Week</th>\n",
              "      <th>Average_Transaction_Value_Per_Month</th>\n",
              "      <th>Average_Transaction_Value_Per_Quarter</th>\n",
              "    </tr>\n",
              "  </thead>\n",
              "  <tbody>\n",
              "    <tr>\n",
              "      <th>0</th>\n",
              "      <td>1dice97ECuByXAvqXpaYzSaQuPVvrtmz6</td>\n",
              "      <td>62</td>\n",
              "      <td>5454.509437</td>\n",
              "      <td>-25515.019600</td>\n",
              "      <td>-20060.510164</td>\n",
              "      <td>14504.0</td>\n",
              "      <td>14324.0</td>\n",
              "      <td>1.074286</td>\n",
              "      <td>0.017327</td>\n",
              "      <td>0.12129</td>\n",
              "      <td>0.519816</td>\n",
              "      <td>1.576775</td>\n",
              "    </tr>\n",
              "    <tr>\n",
              "      <th>1</th>\n",
              "      <td>1HcdBWHCEkMf6WgTnjAse6Q5LWtNu5tAqW</td>\n",
              "      <td>32</td>\n",
              "      <td>0.000000</td>\n",
              "      <td>-1.732852</td>\n",
              "      <td>-1.732852</td>\n",
              "      <td>1.0</td>\n",
              "      <td>0.0</td>\n",
              "      <td>1.732852</td>\n",
              "      <td>0.027949</td>\n",
              "      <td>0.195645</td>\n",
              "      <td>0.838477</td>\n",
              "      <td>2.543379</td>\n",
              "    </tr>\n",
              "    <tr>\n",
              "      <th>2</th>\n",
              "      <td>1DASNHJLuqkwezyNLStC85s5d92FuutqiJ</td>\n",
              "      <td>17</td>\n",
              "      <td>0.014466</td>\n",
              "      <td>-0.012288</td>\n",
              "      <td>0.002178</td>\n",
              "      <td>1.0</td>\n",
              "      <td>1.0</td>\n",
              "      <td>0.013377</td>\n",
              "      <td>0.000216</td>\n",
              "      <td>0.00151</td>\n",
              "      <td>0.006473</td>\n",
              "      <td>0.019634</td>\n",
              "    </tr>\n",
              "    <tr>\n",
              "      <th>3</th>\n",
              "      <td>1EkUCz9okAjBofU7HEGXkNo61cCJTsqLPA</td>\n",
              "      <td>17</td>\n",
              "      <td>0.000000</td>\n",
              "      <td>-0.012288</td>\n",
              "      <td>-0.012288</td>\n",
              "      <td>1.0</td>\n",
              "      <td>0.0</td>\n",
              "      <td>0.012288</td>\n",
              "      <td>0.000198</td>\n",
              "      <td>0.001387</td>\n",
              "      <td>0.005946</td>\n",
              "      <td>0.018036</td>\n",
              "    </tr>\n",
              "    <tr>\n",
              "      <th>4</th>\n",
              "      <td>1C6K5PJUU8oe9GxVPDbRH1cs6FDbHMQNHs</td>\n",
              "      <td>23</td>\n",
              "      <td>0.000000</td>\n",
              "      <td>-23.322033</td>\n",
              "      <td>-23.322033</td>\n",
              "      <td>1.0</td>\n",
              "      <td>0.0</td>\n",
              "      <td>23.322033</td>\n",
              "      <td>0.376162</td>\n",
              "      <td>2.633133</td>\n",
              "      <td>11.284855</td>\n",
              "      <td>34.230726</td>\n",
              "    </tr>\n",
              "    <tr>\n",
              "      <th>...</th>\n",
              "      <td>...</td>\n",
              "      <td>...</td>\n",
              "      <td>...</td>\n",
              "      <td>...</td>\n",
              "      <td>...</td>\n",
              "      <td>...</td>\n",
              "      <td>...</td>\n",
              "      <td>...</td>\n",
              "      <td>...</td>\n",
              "      <td>...</td>\n",
              "      <td>...</td>\n",
              "      <td>...</td>\n",
              "    </tr>\n",
              "    <tr>\n",
              "      <th>619443</th>\n",
              "      <td>13FoML1UvV2YEjZud4Js4Jq1stLrSos8ie</td>\n",
              "      <td>10</td>\n",
              "      <td>0.120231</td>\n",
              "      <td>0.000000</td>\n",
              "      <td>0.120231</td>\n",
              "      <td>0.0</td>\n",
              "      <td>0.0</td>\n",
              "      <td>0.120231</td>\n",
              "      <td>0.001939</td>\n",
              "      <td>0.013574</td>\n",
              "      <td>0.058176</td>\n",
              "      <td>0.176468</td>\n",
              "    </tr>\n",
              "    <tr>\n",
              "      <th>619444</th>\n",
              "      <td>19udyqxHeoNRiHA6RF3zeCgw1qbn4xQorD</td>\n",
              "      <td>45</td>\n",
              "      <td>17.388604</td>\n",
              "      <td>0.000000</td>\n",
              "      <td>17.388604</td>\n",
              "      <td>0.0</td>\n",
              "      <td>0.0</td>\n",
              "      <td>17.388604</td>\n",
              "      <td>0.280461</td>\n",
              "      <td>1.963229</td>\n",
              "      <td>8.413841</td>\n",
              "      <td>25.521983</td>\n",
              "    </tr>\n",
              "    <tr>\n",
              "      <th>619445</th>\n",
              "      <td>1NGistC71QWeWE7Lp78pc91iyFxKqx1EWX</td>\n",
              "      <td>45</td>\n",
              "      <td>5.400000</td>\n",
              "      <td>0.000000</td>\n",
              "      <td>5.400000</td>\n",
              "      <td>0.0</td>\n",
              "      <td>0.0</td>\n",
              "      <td>5.4</td>\n",
              "      <td>0.087097</td>\n",
              "      <td>0.609677</td>\n",
              "      <td>2.612903</td>\n",
              "      <td>7.925806</td>\n",
              "    </tr>\n",
              "    <tr>\n",
              "      <th>619446</th>\n",
              "      <td>12RZy8rfyWY8GZX2uCMuadxYguvALQAPBa</td>\n",
              "      <td>32</td>\n",
              "      <td>40.377926</td>\n",
              "      <td>0.000000</td>\n",
              "      <td>40.377926</td>\n",
              "      <td>0.0</td>\n",
              "      <td>0.0</td>\n",
              "      <td>40.377926</td>\n",
              "      <td>0.651257</td>\n",
              "      <td>4.558798</td>\n",
              "      <td>19.537706</td>\n",
              "      <td>59.264376</td>\n",
              "    </tr>\n",
              "    <tr>\n",
              "      <th>619447</th>\n",
              "      <td>1F7y8kzRJVo1Fvs4gJW3tfTqmX6QANAwUA</td>\n",
              "      <td>49</td>\n",
              "      <td>1.943348</td>\n",
              "      <td>0.000000</td>\n",
              "      <td>1.943348</td>\n",
              "      <td>0.0</td>\n",
              "      <td>0.0</td>\n",
              "      <td>1.943348</td>\n",
              "      <td>0.031344</td>\n",
              "      <td>0.21941</td>\n",
              "      <td>0.94033</td>\n",
              "      <td>2.852333</td>\n",
              "    </tr>\n",
              "  </tbody>\n",
              "</table>\n",
              "<p>619448 rows × 12 columns</p>\n",
              "</div>\n",
              "    <div class=\"colab-df-buttons\">\n",
              "\n",
              "  <div class=\"colab-df-container\">\n",
              "    <button class=\"colab-df-convert\" onclick=\"convertToInteractive('df-bee2d294-98ac-469e-bc66-31fcb9ffa10f')\"\n",
              "            title=\"Convert this dataframe to an interactive table.\"\n",
              "            style=\"display:none;\">\n",
              "\n",
              "  <svg xmlns=\"http://www.w3.org/2000/svg\" height=\"24px\" viewBox=\"0 -960 960 960\">\n",
              "    <path d=\"M120-120v-720h720v720H120Zm60-500h600v-160H180v160Zm220 220h160v-160H400v160Zm0 220h160v-160H400v160ZM180-400h160v-160H180v160Zm440 0h160v-160H620v160ZM180-180h160v-160H180v160Zm440 0h160v-160H620v160Z\"/>\n",
              "  </svg>\n",
              "    </button>\n",
              "\n",
              "  <style>\n",
              "    .colab-df-container {\n",
              "      display:flex;\n",
              "      gap: 12px;\n",
              "    }\n",
              "\n",
              "    .colab-df-convert {\n",
              "      background-color: #E8F0FE;\n",
              "      border: none;\n",
              "      border-radius: 50%;\n",
              "      cursor: pointer;\n",
              "      display: none;\n",
              "      fill: #1967D2;\n",
              "      height: 32px;\n",
              "      padding: 0 0 0 0;\n",
              "      width: 32px;\n",
              "    }\n",
              "\n",
              "    .colab-df-convert:hover {\n",
              "      background-color: #E2EBFA;\n",
              "      box-shadow: 0px 1px 2px rgba(60, 64, 67, 0.3), 0px 1px 3px 1px rgba(60, 64, 67, 0.15);\n",
              "      fill: #174EA6;\n",
              "    }\n",
              "\n",
              "    .colab-df-buttons div {\n",
              "      margin-bottom: 4px;\n",
              "    }\n",
              "\n",
              "    [theme=dark] .colab-df-convert {\n",
              "      background-color: #3B4455;\n",
              "      fill: #D2E3FC;\n",
              "    }\n",
              "\n",
              "    [theme=dark] .colab-df-convert:hover {\n",
              "      background-color: #434B5C;\n",
              "      box-shadow: 0px 1px 3px 1px rgba(0, 0, 0, 0.15);\n",
              "      filter: drop-shadow(0px 1px 2px rgba(0, 0, 0, 0.3));\n",
              "      fill: #FFFFFF;\n",
              "    }\n",
              "  </style>\n",
              "\n",
              "    <script>\n",
              "      const buttonEl =\n",
              "        document.querySelector('#df-bee2d294-98ac-469e-bc66-31fcb9ffa10f button.colab-df-convert');\n",
              "      buttonEl.style.display =\n",
              "        google.colab.kernel.accessAllowed ? 'block' : 'none';\n",
              "\n",
              "      async function convertToInteractive(key) {\n",
              "        const element = document.querySelector('#df-bee2d294-98ac-469e-bc66-31fcb9ffa10f');\n",
              "        const dataTable =\n",
              "          await google.colab.kernel.invokeFunction('convertToInteractive',\n",
              "                                                    [key], {});\n",
              "        if (!dataTable) return;\n",
              "\n",
              "        const docLinkHtml = 'Like what you see? Visit the ' +\n",
              "          '<a target=\"_blank\" href=https://colab.research.google.com/notebooks/data_table.ipynb>data table notebook</a>'\n",
              "          + ' to learn more about interactive tables.';\n",
              "        element.innerHTML = '';\n",
              "        dataTable['output_type'] = 'display_data';\n",
              "        await google.colab.output.renderOutput(dataTable, element);\n",
              "        const docLink = document.createElement('div');\n",
              "        docLink.innerHTML = docLinkHtml;\n",
              "        element.appendChild(docLink);\n",
              "      }\n",
              "    </script>\n",
              "  </div>\n",
              "\n",
              "\n",
              "<div id=\"df-e1cfe31f-beee-4bae-868e-0357fb50fc72\">\n",
              "  <button class=\"colab-df-quickchart\" onclick=\"quickchart('df-e1cfe31f-beee-4bae-868e-0357fb50fc72')\"\n",
              "            title=\"Suggest charts\"\n",
              "            style=\"display:none;\">\n",
              "\n",
              "<svg xmlns=\"http://www.w3.org/2000/svg\" height=\"24px\"viewBox=\"0 0 24 24\"\n",
              "     width=\"24px\">\n",
              "    <g>\n",
              "        <path d=\"M19 3H5c-1.1 0-2 .9-2 2v14c0 1.1.9 2 2 2h14c1.1 0 2-.9 2-2V5c0-1.1-.9-2-2-2zM9 17H7v-7h2v7zm4 0h-2V7h2v10zm4 0h-2v-4h2v4z\"/>\n",
              "    </g>\n",
              "</svg>\n",
              "  </button>\n",
              "\n",
              "<style>\n",
              "  .colab-df-quickchart {\n",
              "      --bg-color: #E8F0FE;\n",
              "      --fill-color: #1967D2;\n",
              "      --hover-bg-color: #E2EBFA;\n",
              "      --hover-fill-color: #174EA6;\n",
              "      --disabled-fill-color: #AAA;\n",
              "      --disabled-bg-color: #DDD;\n",
              "  }\n",
              "\n",
              "  [theme=dark] .colab-df-quickchart {\n",
              "      --bg-color: #3B4455;\n",
              "      --fill-color: #D2E3FC;\n",
              "      --hover-bg-color: #434B5C;\n",
              "      --hover-fill-color: #FFFFFF;\n",
              "      --disabled-bg-color: #3B4455;\n",
              "      --disabled-fill-color: #666;\n",
              "  }\n",
              "\n",
              "  .colab-df-quickchart {\n",
              "    background-color: var(--bg-color);\n",
              "    border: none;\n",
              "    border-radius: 50%;\n",
              "    cursor: pointer;\n",
              "    display: none;\n",
              "    fill: var(--fill-color);\n",
              "    height: 32px;\n",
              "    padding: 0;\n",
              "    width: 32px;\n",
              "  }\n",
              "\n",
              "  .colab-df-quickchart:hover {\n",
              "    background-color: var(--hover-bg-color);\n",
              "    box-shadow: 0 1px 2px rgba(60, 64, 67, 0.3), 0 1px 3px 1px rgba(60, 64, 67, 0.15);\n",
              "    fill: var(--button-hover-fill-color);\n",
              "  }\n",
              "\n",
              "  .colab-df-quickchart-complete:disabled,\n",
              "  .colab-df-quickchart-complete:disabled:hover {\n",
              "    background-color: var(--disabled-bg-color);\n",
              "    fill: var(--disabled-fill-color);\n",
              "    box-shadow: none;\n",
              "  }\n",
              "\n",
              "  .colab-df-spinner {\n",
              "    border: 2px solid var(--fill-color);\n",
              "    border-color: transparent;\n",
              "    border-bottom-color: var(--fill-color);\n",
              "    animation:\n",
              "      spin 1s steps(1) infinite;\n",
              "  }\n",
              "\n",
              "  @keyframes spin {\n",
              "    0% {\n",
              "      border-color: transparent;\n",
              "      border-bottom-color: var(--fill-color);\n",
              "      border-left-color: var(--fill-color);\n",
              "    }\n",
              "    20% {\n",
              "      border-color: transparent;\n",
              "      border-left-color: var(--fill-color);\n",
              "      border-top-color: var(--fill-color);\n",
              "    }\n",
              "    30% {\n",
              "      border-color: transparent;\n",
              "      border-left-color: var(--fill-color);\n",
              "      border-top-color: var(--fill-color);\n",
              "      border-right-color: var(--fill-color);\n",
              "    }\n",
              "    40% {\n",
              "      border-color: transparent;\n",
              "      border-right-color: var(--fill-color);\n",
              "      border-top-color: var(--fill-color);\n",
              "    }\n",
              "    60% {\n",
              "      border-color: transparent;\n",
              "      border-right-color: var(--fill-color);\n",
              "    }\n",
              "    80% {\n",
              "      border-color: transparent;\n",
              "      border-right-color: var(--fill-color);\n",
              "      border-bottom-color: var(--fill-color);\n",
              "    }\n",
              "    90% {\n",
              "      border-color: transparent;\n",
              "      border-bottom-color: var(--fill-color);\n",
              "    }\n",
              "  }\n",
              "</style>\n",
              "\n",
              "  <script>\n",
              "    async function quickchart(key) {\n",
              "      const quickchartButtonEl =\n",
              "        document.querySelector('#' + key + ' button');\n",
              "      quickchartButtonEl.disabled = true;  // To prevent multiple clicks.\n",
              "      quickchartButtonEl.classList.add('colab-df-spinner');\n",
              "      try {\n",
              "        const charts = await google.colab.kernel.invokeFunction(\n",
              "            'suggestCharts', [key], {});\n",
              "      } catch (error) {\n",
              "        console.error('Error during call to suggestCharts:', error);\n",
              "      }\n",
              "      quickchartButtonEl.classList.remove('colab-df-spinner');\n",
              "      quickchartButtonEl.classList.add('colab-df-quickchart-complete');\n",
              "    }\n",
              "    (() => {\n",
              "      let quickchartButtonEl =\n",
              "        document.querySelector('#df-e1cfe31f-beee-4bae-868e-0357fb50fc72 button');\n",
              "      quickchartButtonEl.style.display =\n",
              "        google.colab.kernel.accessAllowed ? 'block' : 'none';\n",
              "    })();\n",
              "  </script>\n",
              "</div>\n",
              "    </div>\n",
              "  </div>\n"
            ]
          },
          "metadata": {},
          "execution_count": 12
        }
      ]
    },
    {
      "cell_type": "markdown",
      "metadata": {
        "id": "Uv2bVm26VBLs"
      },
      "source": [
        "#### Discussion\n",
        "\n",
        "**1) Balance**\n",
        "\n",
        "The code calculates the net balance for each address in a cryptocurrency transaction dataset by:\n",
        "\n",
        "1. Summing the transaction amounts for each address in the 'Input' column of inputDF, which likely represents the total sent by each address.\n",
        "2. Summing the transaction values for each address in the 'Output' column of outputDF, likely representing the total received.\n",
        "3. Combining these sums into a single DataFrame, subtracting the inputs from the outputs to get a net balance for each address.\n",
        "4. Filling any missing values with zero, since an outer join ensures all addresses are included, even if they don't appear in both DataFrames.\n",
        "5. Sorting the DataFrame by balance in descending order to identify the addresses with the highest net balance.\n",
        "\n",
        "**2) Address age**\n",
        "\n",
        "This code calculates the age of each address in a dataset containing cryptocurrency transactions by:\n",
        "\n",
        "1. Converting the 'Time' column in both inputDF and outputDF to datetime format.\n",
        "2. Determining the earliest and latest transaction times across both datasets to establish the total period of the dataset.\n",
        "3. Grouping transactions by 'Input' and 'Output' addresses to find the earliest transaction time for each address, representing when each address was first used.\n",
        "4. Combining these times into a single DataFrame and calculating the first transaction time for each address.\n",
        "5. Computing the age of each address in days by subtracting the first transaction time from the latest transaction time in the dataset.\n",
        "6. Storing the results in a new DataFrame address_age_df with columns for 'Address' and 'address_age' (the latter representing each address's age in days).\n",
        "\n",
        "\n",
        "\n",
        "**3) Average transcation values**\n",
        "\n",
        "This code performs an analysis on cryptocurrency transaction data to determine the average transaction value for each address and then breaks down this average on a per-day, per-week, per-month, and per-quarter basis:\n",
        "\n",
        "1. It calculates the total transaction value summed over all transactions for each address within the inputDF and outputDF DataFrames.\n",
        "2. It counts the number of transactions for each address in both DataFrames.\n",
        "3. These totals and counts are then combined across inputs and outputs, with missing values filled with 0, to ensure that all addresses are accounted for.\n",
        "4. The average transaction value for each address is computed by dividing the total values by the transaction counts.\n",
        "5. This average transaction value is sorted in descending order to identify the addresses with the highest average transaction values.\n",
        "6. The sorted values are displayed for the top 10 addresses.\n",
        "7. The series is then converted to a DataFrame, and the index is reset to create an 'Address' column.\n",
        "8. Additional columns are added to the DataFrame to calculate the average transaction value per day, week, month, and quarter based on the total period of the dataset determined earlier.\n",
        "9. The code to display the top entries of this DataFrame is commented out.\n",
        "\n",
        "**4) N. of Input/Output**\n",
        "\n",
        "I calculated the number of times each cryptocurrency address appeared in both the input and output datasets:\n",
        "\n",
        "1. For the input dataset 'N_of_input', I counted the occurrences of addresses in the 'Input' column, converted the counts to floating-point values, and organized the results into a DataFrame.\n",
        "\n",
        "2. For the output dataset 'N_of_output', I performed a similar counting process based on the 'Output' column.\n",
        "\n",
        "3. I merged these two datasets 'input_output_df' by the 'Address' column, filling any missing values with zeros. This merged DataFrame provides the counts of appearances for each address in both input and output data.\n",
        "\n"
      ]
    }
  ]
}